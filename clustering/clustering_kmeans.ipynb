{
 "cells": [
  {
   "cell_type": "markdown",
   "id": "e4339df1",
   "metadata": {},
   "source": [
    "## K-Means算法进行聚类"
   ]
  },
  {
   "cell_type": "code",
   "execution_count": 43,
   "id": "5bb8751b",
   "metadata": {},
   "outputs": [],
   "source": [
    "from sklearn.cluster import KMeans\n",
    "import pandas as pd"
   ]
  },
  {
   "cell_type": "markdown",
   "id": "4e815439",
   "metadata": {},
   "source": [
    "### 读取源数据并构建特征矩阵"
   ]
  },
  {
   "cell_type": "code",
   "execution_count": 44,
   "id": "34d28b79",
   "metadata": {},
   "outputs": [],
   "source": [
    "#读取源数据\n",
    "data = pd.read_excel(\"../DataSource/result.xlsx\")"
   ]
  },
  {
   "cell_type": "code",
   "execution_count": 45,
   "id": "dd38e02b",
   "metadata": {},
   "outputs": [
    {
     "name": "stdout",
     "output_type": "stream",
     "text": [
      "    source ID  T1548  T1548.002  T1548.004  T1548.001  T1548.003  T1134  \\\n",
      "0       G0099      0          0          0          0          0      0   \n",
      "1       G0006      0          0          0          0          0      0   \n",
      "2       G0005      0          0          0          0          0      0   \n",
      "3       G0023      0          0          0          0          0      0   \n",
      "4       G0025      0          0          0          0          0      0   \n",
      "..        ...    ...        ...        ...        ...        ...    ...   \n",
      "125     G0044      0          0          0          0          0      0   \n",
      "126     G0102      0          0          0          0          0      0   \n",
      "127     G0128      0          0          0          0          0      0   \n",
      "128     G0018      0          0          0          0          0      0   \n",
      "129     G0045      0          0          0          0          0      0   \n",
      "\n",
      "     T1134.002  T1134.003  T1134.004  ...  T1497.002  T1600  T1600.002  \\\n",
      "0            0          0          0  ...          0      0          0   \n",
      "1            0          0          0  ...          0      0          0   \n",
      "2            0          0          0  ...          0      0          0   \n",
      "3            0          0          0  ...          0      0          0   \n",
      "4            0          0          0  ...          0      0          0   \n",
      "..         ...        ...        ...  ...        ...    ...        ...   \n",
      "125          0          0          0  ...          0      0          0   \n",
      "126          0          0          0  ...          0      0          0   \n",
      "127          0          0          0  ...          0      0          0   \n",
      "128          0          0          0  ...          0      0          0   \n",
      "129          0          0          0  ...          0      0          0   \n",
      "\n",
      "     T1600.001  T1102  T1102.002  T1102.001  T1102.003  T1047  T1220  \n",
      "0            0      0          0          0          0      0      0  \n",
      "1            0      0          0          0          0      0      0  \n",
      "2            0      0          1          0          0      0      0  \n",
      "3            0      0          0          0          0      0      0  \n",
      "4            0      0          0          0          0      0      0  \n",
      "..         ...    ...        ...        ...        ...    ...    ...  \n",
      "125          0      0          0          0          0      0      0  \n",
      "126          0      0          0          0          0      1      0  \n",
      "127          0      0          1          0          0      0      0  \n",
      "128          0      0          0          0          0      0      0  \n",
      "129          0      0          0          0          0      1      0  \n",
      "\n",
      "[130 rows x 595 columns]\n"
     ]
    }
   ],
   "source": [
    "print(data)"
   ]
  },
  {
   "cell_type": "code",
   "execution_count": 27,
   "id": "62a10b77",
   "metadata": {},
   "outputs": [],
   "source": [
    "# 提取特征列数据，构建特征矩阵\n",
    "feature_columns = data.columns[1:]  # 选择除了第一列之外的所有列作为特征列\n",
    "X = data[feature_columns].values"
   ]
  },
  {
   "cell_type": "code",
   "execution_count": 28,
   "id": "09b22d02",
   "metadata": {},
   "outputs": [
    {
     "name": "stdout",
     "output_type": "stream",
     "text": [
      "(130, 594)\n"
     ]
    }
   ],
   "source": [
    "# 输出特征矩阵\n",
    "print(X.shape)"
   ]
  },
  {
   "cell_type": "markdown",
   "id": "a45a2199",
   "metadata": {},
   "source": [
    "### 聚类"
   ]
  },
  {
   "cell_type": "code",
   "execution_count": 95,
   "id": "22b15d27",
   "metadata": {},
   "outputs": [
    {
     "name": "stderr",
     "output_type": "stream",
     "text": [
      "D:\\Anaconda3\\lib\\site-packages\\sklearn\\cluster\\_kmeans.py:870: FutureWarning: The default value of `n_init` will change from 10 to 'auto' in 1.4. Set the value of `n_init` explicitly to suppress the warning\n",
      "  warnings.warn(\n",
      "D:\\Anaconda3\\lib\\site-packages\\sklearn\\cluster\\_kmeans.py:1382: UserWarning: KMeans is known to have a memory leak on Windows with MKL, when there are less chunks than available threads. You can avoid it by setting the environment variable OMP_NUM_THREADS=1.\n",
      "  warnings.warn(\n"
     ]
    }
   ],
   "source": [
    "# 指定聚类数目\n",
    "k = 9\n",
    "\n",
    "# 创建K-Means模型并进行训练\n",
    "kmeans = KMeans(n_clusters=k)\n",
    "kmeans.fit(X)\n",
    "\n",
    "# 获取聚类标签\n",
    "labels = kmeans.labels_\n",
    "\n",
    "# 获取聚类中心\n",
    "centers = kmeans.cluster_centers_\n",
    "\n",
    "# 将聚类标签和中心添加到数据集中\n",
    "data['clustering_label'] = labels\n",
    "data['clustering_center'] = [centers[label] for label in labels]"
   ]
  },
  {
   "cell_type": "code",
   "execution_count": 96,
   "id": "a742b5d3",
   "metadata": {},
   "outputs": [
    {
     "name": "stdout",
     "output_type": "stream",
     "text": [
      "    source ID  T1548  T1548.002  T1548.004  T1548.001  T1548.003  T1134  \\\n",
      "0       G0099      0          0          0          0          0      0   \n",
      "1       G0006      0          0          0          0          0      0   \n",
      "2       G0005      0          0          0          0          0      0   \n",
      "3       G0023      0          0          0          0          0      0   \n",
      "4       G0025      0          0          0          0          0      0   \n",
      "..        ...    ...        ...        ...        ...        ...    ...   \n",
      "125     G0044      0          0          0          0          0      0   \n",
      "126     G0102      0          0          0          0          0      0   \n",
      "127     G0128      0          0          0          0          0      0   \n",
      "128     G0018      0          0          0          0          0      0   \n",
      "129     G0045      0          0          0          0          0      0   \n",
      "\n",
      "     T1134.002  T1134.003  T1134.004  ...  T1600.002  T1600.001  T1102  \\\n",
      "0            0          0          0  ...          0          0      0   \n",
      "1            0          0          0  ...          0          0      0   \n",
      "2            0          0          0  ...          0          0      0   \n",
      "3            0          0          0  ...          0          0      0   \n",
      "4            0          0          0  ...          0          0      0   \n",
      "..         ...        ...        ...  ...        ...        ...    ...   \n",
      "125          0          0          0  ...          0          0      0   \n",
      "126          0          0          0  ...          0          0      0   \n",
      "127          0          0          0  ...          0          0      0   \n",
      "128          0          0          0  ...          0          0      0   \n",
      "129          0          0          0  ...          0          0      0   \n",
      "\n",
      "     T1102.002  T1102.001  T1102.003  T1047  T1220  clustering_label  \\\n",
      "0            0          0          0      0      0                 0   \n",
      "1            0          0          0      0      0                 3   \n",
      "2            1          0          0      0      0                 3   \n",
      "3            0          0          0      0      0                 3   \n",
      "4            0          0          0      0      0                 3   \n",
      "..         ...        ...        ...    ...    ...               ...   \n",
      "125          0          0          0      0      0                 3   \n",
      "126          0          0          0      1      0                 7   \n",
      "127          1          0          0      0      0                 0   \n",
      "128          0          0          0      0      0                 0   \n",
      "129          0          0          0      1      0                 7   \n",
      "\n",
      "                                     clustering_center  \n",
      "0    [0.0, 0.04444444444444447, 0.0, 0.0, 0.0, 1.56...  \n",
      "1    [0.0, 0.01818181818181816, 0.0, 0.0, 0.0, 0.01...  \n",
      "2    [0.0, 0.01818181818181816, 0.0, 0.0, 0.0, 0.01...  \n",
      "3    [0.0, 0.01818181818181816, 0.0, 0.0, 0.0, 0.01...  \n",
      "4    [0.0, 0.01818181818181816, 0.0, 0.0, 0.0, 0.01...  \n",
      "..                                                 ...  \n",
      "125  [0.0, 0.01818181818181816, 0.0, 0.0, 0.0, 0.01...  \n",
      "126  [0.0, 0.10000000000000002, 0.0, 0.0, 0.0, 0.10...  \n",
      "127  [0.0, 0.04444444444444447, 0.0, 0.0, 0.0, 1.56...  \n",
      "128  [0.0, 0.04444444444444447, 0.0, 0.0, 0.0, 1.56...  \n",
      "129  [0.0, 0.10000000000000002, 0.0, 0.0, 0.0, 0.10...  \n",
      "\n",
      "[130 rows x 597 columns]\n"
     ]
    }
   ],
   "source": [
    "print(data)"
   ]
  },
  {
   "cell_type": "markdown",
   "id": "ff59d0ae",
   "metadata": {},
   "source": [
    "### 评估\n",
    "评估聚类效果的常见算法和指标有以下几种：\n",
    "\n",
    "轮廓系数（Silhouette Coefficient）：轮廓系数衡量样本与其所属聚类的相似性和与其他聚类的差异程度。它的取值范围在[-1, 1]之间，值越接近1表示聚类效果越好。\n",
    "\n",
    "Dunn指数：Dunn指数度量聚类结果中簇间距离与簇内距离之间的关系。它的取值范围大于等于0，值越大表示聚类效果越好。\n",
    "\n",
    "DB指数（Davies-Bouldin Index）：DB指数度量聚类结果中簇内的紧密度和簇间的分离度。它的取值范围大于等于0，值越小表示聚类效果越好。\n",
    "\n",
    "这些评估聚类效果的算法和指标可用于对聚类结果进行定量评估，并选择最佳的聚类算法、参数设置或解释聚类结果的合理性。具体选择哪种评估算法取决于数据集的性质、聚类任务的目标以及您的需求和偏好。"
   ]
  },
  {
   "cell_type": "markdown",
   "id": "a2e832b4",
   "metadata": {},
   "source": [
    "#### 轮廓系数"
   ]
  },
  {
   "cell_type": "code",
   "execution_count": 31,
   "id": "17da3d24",
   "metadata": {},
   "outputs": [],
   "source": [
    "from sklearn.metrics import silhouette_score"
   ]
  },
  {
   "cell_type": "code",
   "execution_count": 97,
   "id": "03304dc8",
   "metadata": {},
   "outputs": [],
   "source": [
    "silhouette_avg = silhouette_score(X, labels)"
   ]
  },
  {
   "cell_type": "code",
   "execution_count": 98,
   "id": "9fc0efe9",
   "metadata": {},
   "outputs": [
    {
     "name": "stdout",
     "output_type": "stream",
     "text": [
      "0.04663953604942404\n"
     ]
    }
   ],
   "source": [
    "print(silhouette_avg)"
   ]
  },
  {
   "cell_type": "markdown",
   "id": "6e3e3a96",
   "metadata": {},
   "source": [
    "#### Dumn指数和DB指数"
   ]
  },
  {
   "cell_type": "code",
   "execution_count": 99,
   "id": "0ed85f81",
   "metadata": {},
   "outputs": [],
   "source": [
    "from sklearn.metrics import pairwise_distances,davies_bouldin_score\n",
    "import numpy as np"
   ]
  },
  {
   "cell_type": "code",
   "execution_count": 100,
   "id": "dcdfb261",
   "metadata": {},
   "outputs": [
    {
     "name": "stdout",
     "output_type": "stream",
     "text": [
      "Dunn指数: 0.0\n"
     ]
    }
   ],
   "source": [
    "# 计算样本间的欧氏距离矩阵\n",
    "dist_matrix = pairwise_distances(X)\n",
    "\n",
    "# 计算簇内距离的最小值\n",
    "intra_cluster_distances = []\n",
    "for i in range(k):\n",
    "    indices = np.where(labels == i)[0]\n",
    "    intra_distances = dist_matrix[indices][:, indices]\n",
    "    min_intra_distance = np.min(intra_distances)\n",
    "    intra_cluster_distances.append(min_intra_distance)\n",
    "\n",
    "# 计算簇间距离的最大值\n",
    "inter_cluster_distances = []\n",
    "for i in range(k):\n",
    "    indices_i = np.where(labels == i)[0]\n",
    "    for j in range(i + 1, k):\n",
    "        indices_j = np.where(labels == j)[0]\n",
    "        inter_distances = dist_matrix[indices_i][:, indices_j]\n",
    "        max_inter_distance = np.max(inter_distances)\n",
    "        inter_cluster_distances.append(max_inter_distance)\n",
    "\n",
    "# 计算Dunn指数\n",
    "dunn_index = np.min(intra_cluster_distances) / np.max(inter_cluster_distances)\n",
    "print(\"Dunn指数:\", dunn_index)"
   ]
  },
  {
   "cell_type": "code",
   "execution_count": 101,
   "id": "89615ecf",
   "metadata": {},
   "outputs": [
    {
     "name": "stdout",
     "output_type": "stream",
     "text": [
      "DB指数: 2.0148512241051018\n"
     ]
    }
   ],
   "source": [
    "# 假设有数据集 X 和对应的聚类结果 labels\n",
    "db_score = davies_bouldin_score(X, labels)\n",
    "print(\"DB指数:\", db_score)"
   ]
  },
  {
   "cell_type": "markdown",
   "id": "6ac1c011",
   "metadata": {},
   "source": [
    "### 可视化"
   ]
  },
  {
   "cell_type": "code",
   "execution_count": 102,
   "id": "2a3a8d30",
   "metadata": {},
   "outputs": [
    {
     "data": {
      "image/png": "[encoded data removed]",
      "text/plain": [
       "<Figure size 640x480 with 1 Axes>"
      ]
     },
     "metadata": {},
     "output_type": "display_data"
    }
   ],
   "source": [
    "import matplotlib.pyplot as plt\n",
    "\n",
    "# 假设聚类结果存储在变量labels中，labels是一个包含每个样本所属簇的列表或数组\n",
    "\n",
    "# 获取每个簇的唯一标签\n",
    "unique_labels = set(labels)\n",
    "\n",
    "# 定义颜色列表，用于区分不同的簇\n",
    "colors = ['r', 'g', 'b', 'c', 'm', 'y', 'k']\n",
    "\n",
    "# 绘制散点图\n",
    "for label in unique_labels:\n",
    "    # 获取属于当前簇的样本索引\n",
    "    indices = [i for i, l in enumerate(labels) if l == label]\n",
    "    \n",
    "    # 获取属于当前簇的样本的特征向量\n",
    "    cluster_points = X[indices]\n",
    "    \n",
    "    # 提取特征向量的两个维度，用于绘制散点图\n",
    "    x = cluster_points[:, 0]\n",
    "    y = cluster_points[:, 1]\n",
    "    \n",
    "    # 绘制当前簇的散点图\n",
    "    plt.scatter(x, y, c=colors[label % len(colors)], label=f'Cluster {label}')\n",
    "\n",
    "# 添加图例\n",
    "plt.legend()\n",
    "\n",
    "# 显示图形\n",
    "plt.show()\n"
   ]
  },
  {
   "cell_type": "markdown",
   "id": "1e06b7f7",
   "metadata": {},
   "source": [
    "当两个聚类重合在一起时，这可能表示聚类算法无法明确地将这两个聚类区分开来，或者存在数据的特殊性质导致聚类结果出现重叠。在这种情况下，可以考虑以下几种方法来处理重叠的聚类：\n",
    "\n",
    "调整聚类算法参数：尝试调整聚类算法的参数，例如聚类数目、距离度量方法、初始聚类中心的选择等。不同的参数设置可能会导致不同的聚类结果，进而解决重叠聚类的问题。\n",
    "\n",
    "使用不同的聚类算法：尝试使用其他不同的聚类算法进行比较，看是否能够更好地将数据分离成不重叠的聚类。不同的聚类算法具有不同的性质和假设，适用于不同类型的数据集。\n",
    "\n",
    "数据预处理和特征选择：考虑对数据进行预处理和特征选择，以消除数据中的噪声或冗余信息。通过数据清洗、降维、特征选择等方法，可以改善聚类效果并减少聚类重叠。\n",
    "\n",
    "手动调整聚类结果：如果重叠的聚类对于问题的解决没有实际影响，并且聚类结果符合问题领域的知识和理解，可以手动调整聚类结果，将重叠的聚类合并为一个或将其分离为多个独立的聚类。\n",
    "\n",
    "混合聚类方法：考虑使用混合聚类方法，例如谱聚类（spectral clustering）或模糊聚类（fuzzy clustering），这些方法可以在一定程度上处理聚类重叠的情况。\n",
    "\n",
    "最适合的处理方法取决于具体的数据和问题背景。建议结合领域知识和实际需求来选择合适的方法，或者尝试组合多种方法来解决聚类重叠的问题。"
   ]
  },
  {
   "cell_type": "code",
   "execution_count": null,
   "id": "e34ffc69",
   "metadata": {},
   "outputs": [],
   "source": [
    "5rbg"
   ]
  }
 ],
 "metadata": {
  "kernelspec": {
   "display_name": "Python 3 (ipykernel)",
   "language": "python",
   "name": "python3"
  },
  "language_info": {
   "codemirror_mode": {
    "name": "ipython",
    "version": 3
   },
   "file_extension": ".py",
   "mimetype": "text/x-python",
   "name": "python",
   "nbconvert_exporter": "python",
   "pygments_lexer": "ipython3",
   "version": "3.9.13"
  }
 },
 "nbformat": 4,
 "nbformat_minor": 5
}
