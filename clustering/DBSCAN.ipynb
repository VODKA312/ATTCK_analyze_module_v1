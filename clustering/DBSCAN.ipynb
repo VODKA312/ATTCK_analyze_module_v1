{
 "cells": [
  {
   "cell_type": "code",
   "execution_count": 4,
   "id": "c019513b",
   "metadata": {},
   "outputs": [],
   "source": [
    "from sklearn.cluster import DBSCAN\n",
    "import numpy as np\n",
    "import pandas as pd"
   ]
  },
  {
   "cell_type": "code",
   "execution_count": 7,
   "id": "c83085e6",
   "metadata": {},
   "outputs": [],
   "source": [
    "#读取源数据\n",
    "data = pd.read_excel(\"../DataSource/result.xlsx\")\n",
    "# 去除 'source ID' 列\n",
    "data = data.drop('source ID', axis=1)"
   ]
  },
  {
   "cell_type": "code",
   "execution_count": 44,
   "id": "47842d4f",
   "metadata": {},
   "outputs": [],
   "source": [
    "# 创建DBSCAN聚类对象\n",
    "dbscan = DBSCAN(eps=2.0, min_samples=1)\n",
    "\n",
    "# 执行聚类\n",
    "clusters = dbscan.fit_predict(data)"
   ]
  },
  {
   "cell_type": "code",
   "execution_count": 45,
   "id": "640992e0",
   "metadata": {},
   "outputs": [
    {
     "name": "stdout",
     "output_type": "stream",
     "text": [
      "[  0   1   2   2   2   3   4   5   6   7   2   8   9  10  11  12  13   2\n",
      "  14  15  16  17  18  19  20   2  21  22  23  24  25  26  27  28  29  30\n",
      "  31  32  33  34  35  36   2  37  38  39  40  41  42  43  44  45   2  46\n",
      "  47   2  48   2  49  50   2  51  52  53  54  55  56  57  58  59  60  61\n",
      "  62  63  64  65   2   2  66  67  68  69  70  71  72   2  73  74  75  76\n",
      "   2  77   2  78  79  80  81   2  82  83  84  85   2  86  87   2  88   2\n",
      "  89  90  91  92  93   2  94   2  95  96  97  98  99 100 101 102 103 104\n",
      " 105 106 107 108]\n"
     ]
    }
   ],
   "source": [
    "print(clusters)"
   ]
  },
  {
   "cell_type": "code",
   "execution_count": 46,
   "id": "d91cd274",
   "metadata": {},
   "outputs": [],
   "source": [
    "# 生成聚类标签\n",
    "clustering_labels = np.array([f'Cluster {label}' for label in clusters])\n",
    "\n",
    "# 获取聚类中心\n",
    "clustering_center = np.mean(data, axis=0)"
   ]
  },
  {
   "cell_type": "code",
   "execution_count": 47,
   "id": "97b586f9",
   "metadata": {},
   "outputs": [
    {
     "name": "stdout",
     "output_type": "stream",
     "text": [
      "Clustering Labels: ['Cluster 0' 'Cluster 1' 'Cluster 2' 'Cluster 2' 'Cluster 2' 'Cluster 3'\n",
      " 'Cluster 4' 'Cluster 5' 'Cluster 6' 'Cluster 7' 'Cluster 2' 'Cluster 8'\n",
      " 'Cluster 9' 'Cluster 10' 'Cluster 11' 'Cluster 12' 'Cluster 13'\n",
      " 'Cluster 2' 'Cluster 14' 'Cluster 15' 'Cluster 16' 'Cluster 17'\n",
      " 'Cluster 18' 'Cluster 19' 'Cluster 20' 'Cluster 2' 'Cluster 21'\n",
      " 'Cluster 22' 'Cluster 23' 'Cluster 24' 'Cluster 25' 'Cluster 26'\n",
      " 'Cluster 27' 'Cluster 28' 'Cluster 29' 'Cluster 30' 'Cluster 31'\n",
      " 'Cluster 32' 'Cluster 33' 'Cluster 34' 'Cluster 35' 'Cluster 36'\n",
      " 'Cluster 2' 'Cluster 37' 'Cluster 38' 'Cluster 39' 'Cluster 40'\n",
      " 'Cluster 41' 'Cluster 42' 'Cluster 43' 'Cluster 44' 'Cluster 45'\n",
      " 'Cluster 2' 'Cluster 46' 'Cluster 47' 'Cluster 2' 'Cluster 48'\n",
      " 'Cluster 2' 'Cluster 49' 'Cluster 50' 'Cluster 2' 'Cluster 51'\n",
      " 'Cluster 52' 'Cluster 53' 'Cluster 54' 'Cluster 55' 'Cluster 56'\n",
      " 'Cluster 57' 'Cluster 58' 'Cluster 59' 'Cluster 60' 'Cluster 61'\n",
      " 'Cluster 62' 'Cluster 63' 'Cluster 64' 'Cluster 65' 'Cluster 2'\n",
      " 'Cluster 2' 'Cluster 66' 'Cluster 67' 'Cluster 68' 'Cluster 69'\n",
      " 'Cluster 70' 'Cluster 71' 'Cluster 72' 'Cluster 2' 'Cluster 73'\n",
      " 'Cluster 74' 'Cluster 75' 'Cluster 76' 'Cluster 2' 'Cluster 77'\n",
      " 'Cluster 2' 'Cluster 78' 'Cluster 79' 'Cluster 80' 'Cluster 81'\n",
      " 'Cluster 2' 'Cluster 82' 'Cluster 83' 'Cluster 84' 'Cluster 85'\n",
      " 'Cluster 2' 'Cluster 86' 'Cluster 87' 'Cluster 2' 'Cluster 88'\n",
      " 'Cluster 2' 'Cluster 89' 'Cluster 90' 'Cluster 91' 'Cluster 92'\n",
      " 'Cluster 93' 'Cluster 2' 'Cluster 94' 'Cluster 2' 'Cluster 95'\n",
      " 'Cluster 96' 'Cluster 97' 'Cluster 98' 'Cluster 99' 'Cluster 100'\n",
      " 'Cluster 101' 'Cluster 102' 'Cluster 103' 'Cluster 104' 'Cluster 105'\n",
      " 'Cluster 106' 'Cluster 107' 'Cluster 108']\n",
      "Clustering Center: T1548        0.000000\n",
      "T1548.002    0.069231\n",
      "T1548.004    0.000000\n",
      "T1548.001    0.000000\n",
      "T1548.003    0.000000\n",
      "               ...   \n",
      "T1102.002    0.123077\n",
      "T1102.001    0.038462\n",
      "T1102.003    0.007692\n",
      "T1047        0.200000\n",
      "T1220        0.023077\n",
      "Length: 594, dtype: float64\n"
     ]
    }
   ],
   "source": [
    "# 打印聚类结果和聚类中心\n",
    "print(\"Clustering Labels:\", clustering_labels)\n",
    "print(\"Clustering Center:\", clustering_center)"
   ]
  },
  {
   "cell_type": "code",
   "execution_count": 48,
   "id": "2d6952a7",
   "metadata": {},
   "outputs": [
    {
     "name": "stdout",
     "output_type": "stream",
     "text": [
      "轮廓系数: 0.0014410544261247579\n"
     ]
    }
   ],
   "source": [
    "from sklearn.metrics import silhouette_score\n",
    "# 计算轮廓系数\n",
    "silhouette_avg = silhouette_score(data, clustering_labels)\n",
    "print(\"轮廓系数:\", silhouette_avg)"
   ]
  },
  {
   "cell_type": "code",
   "execution_count": 49,
   "id": "4d8daa56",
   "metadata": {},
   "outputs": [
    {
     "name": "stdout",
     "output_type": "stream",
     "text": [
      "Dunn Index: 0.12309149097933274\n",
      "DB Index: 0.42506514881971585\n"
     ]
    }
   ],
   "source": [
    "from sklearn.metrics import pairwise_distances\n",
    "from sklearn.metrics import davies_bouldin_score\n",
    "import numpy as np\n",
    "\n",
    "# 计算样本间的距离矩阵\n",
    "distance_matrix = pairwise_distances(data)\n",
    "\n",
    "# 计算类别内的最小距离\n",
    "min_distances = np.min(distance_matrix[np.nonzero(distance_matrix)])\n",
    "\n",
    "# 计算类间的最大距离\n",
    "max_distances = np.max(distance_matrix)\n",
    "\n",
    "# 计算Dunn指数\n",
    "dunn_index = min_distances / max_distances\n",
    "\n",
    "# 计算DB指数\n",
    "db_index = davies_bouldin_score(data, clusters)\n",
    "\n",
    "# 打印指数\n",
    "print(\"Dunn Index:\", dunn_index)\n",
    "print(\"DB Index:\", db_index)"
   ]
  },
  {
   "cell_type": "code",
   "execution_count": null,
   "id": "bc36d5da",
   "metadata": {},
   "outputs": [],
   "source": []
  }
 ],
 "metadata": {
  "kernelspec": {
   "display_name": "Python 3 (ipykernel)",
   "language": "python",
   "name": "python3"
  },
  "language_info": {
   "codemirror_mode": {
    "name": "ipython",
    "version": 3
   },
   "file_extension": ".py",
   "mimetype": "text/x-python",
   "name": "python",
   "nbconvert_exporter": "python",
   "pygments_lexer": "ipython3",
   "version": "3.9.13"
  }
 },
 "nbformat": 4,
 "nbformat_minor": 5
}
