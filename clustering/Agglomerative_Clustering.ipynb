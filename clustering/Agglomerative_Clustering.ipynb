{
 "cells": [
  {
   "cell_type": "markdown",
   "id": "beb0318c",
   "metadata": {},
   "source": [
    "# Agglomerative Clustering 层次聚类算法"
   ]
  },
  {
   "cell_type": "markdown",
   "id": "6695b192",
   "metadata": {},
   "source": [
    "## 读取源数据"
   ]
  },
  {
   "cell_type": "code",
   "execution_count": 1,
   "id": "adc8b192",
   "metadata": {},
   "outputs": [],
   "source": [
    "import pandas as pd\n",
    "import numpy as np"
   ]
  },
  {
   "cell_type": "code",
   "execution_count": 2,
   "id": "6eeb2fa4",
   "metadata": {},
   "outputs": [],
   "source": [
    "#读取源数据\n",
    "data = pd.read_excel(\"../DataSource/result.xlsx\")"
   ]
  },
  {
   "cell_type": "markdown",
   "id": "a9913b2b",
   "metadata": {},
   "source": [
    "## 构建距离矩阵并聚类"
   ]
  },
  {
   "cell_type": "code",
   "execution_count": 3,
   "id": "310ed276",
   "metadata": {},
   "outputs": [],
   "source": [
    "# 去除 'source ID' 列\n",
    "data = data.drop('source ID', axis=1)"
   ]
  },
  {
   "cell_type": "code",
   "execution_count": 4,
   "id": "5642e15e",
   "metadata": {},
   "outputs": [
    {
     "name": "stdout",
     "output_type": "stream",
     "text": [
      "     T1548  T1548.002  T1548.004  T1548.001  T1548.003  T1134  T1134.002  \\\n",
      "0        0          0          0          0          0      0          0   \n",
      "1        0          0          0          0          0      0          0   \n",
      "2        0          0          0          0          0      0          0   \n",
      "3        0          0          0          0          0      0          0   \n",
      "4        0          0          0          0          0      0          0   \n",
      "..     ...        ...        ...        ...        ...    ...        ...   \n",
      "125      0          0          0          0          0      0          0   \n",
      "126      0          0          0          0          0      0          0   \n",
      "127      0          0          0          0          0      0          0   \n",
      "128      0          0          0          0          0      0          0   \n",
      "129      0          0          0          0          0      0          0   \n",
      "\n",
      "     T1134.003  T1134.004  T1134.005  ...  T1497.002  T1600  T1600.002  \\\n",
      "0            0          0          0  ...          0      0          0   \n",
      "1            0          0          0  ...          0      0          0   \n",
      "2            0          0          0  ...          0      0          0   \n",
      "3            0          0          0  ...          0      0          0   \n",
      "4            0          0          0  ...          0      0          0   \n",
      "..         ...        ...        ...  ...        ...    ...        ...   \n",
      "125          0          0          0  ...          0      0          0   \n",
      "126          0          0          0  ...          0      0          0   \n",
      "127          0          0          0  ...          0      0          0   \n",
      "128          0          0          0  ...          0      0          0   \n",
      "129          0          0          0  ...          0      0          0   \n",
      "\n",
      "     T1600.001  T1102  T1102.002  T1102.001  T1102.003  T1047  T1220  \n",
      "0            0      0          0          0          0      0      0  \n",
      "1            0      0          0          0          0      0      0  \n",
      "2            0      0          1          0          0      0      0  \n",
      "3            0      0          0          0          0      0      0  \n",
      "4            0      0          0          0          0      0      0  \n",
      "..         ...    ...        ...        ...        ...    ...    ...  \n",
      "125          0      0          0          0          0      0      0  \n",
      "126          0      0          0          0          0      1      0  \n",
      "127          0      0          1          0          0      0      0  \n",
      "128          0      0          0          0          0      0      0  \n",
      "129          0      0          0          0          0      1      0  \n",
      "\n",
      "[130 rows x 594 columns]\n"
     ]
    }
   ],
   "source": [
    "print(data)"
   ]
  },
  {
   "cell_type": "code",
   "execution_count": 5,
   "id": "a3936b57",
   "metadata": {},
   "outputs": [
    {
     "name": "stdout",
     "output_type": "stream",
     "text": [
      "130 594\n"
     ]
    }
   ],
   "source": [
    "n = data.shape[0]  # 数据集中样本点的数量\n",
    "d = data.shape[1]  # 数据集中每个样本点的维度\n",
    "print(n,d)"
   ]
  },
  {
   "cell_type": "code",
   "execution_count": 14,
   "id": "786c8a36",
   "metadata": {},
   "outputs": [],
   "source": [
    "from scipy.cluster import hierarchy\n",
    "\n",
    "# 准备数据，假设您的数据存储在变量data中\n",
    "\n",
    "# 计算距离矩阵\n",
    "distance_matrix = hierarchy.distance.pdist(data)"
   ]
  },
  {
   "cell_type": "code",
   "execution_count": 10,
   "id": "268b9e3a",
   "metadata": {},
   "outputs": [],
   "source": [
    "# 进行层次聚类\n",
    "linkage = hierarchy.linkage(distance_matrix, method='average')\n",
    "\n",
    "# 根据需求选择聚类数目，设置阈值\n",
    "threshold = 5.0 # 示例阈值\n",
    "\n",
    "# 获取聚类结果\n",
    "clusters = hierarchy.fcluster(linkage, threshold, criterion='distance')\n",
    "\n",
    "# 生成聚类标签\n",
    "clustering_labels = np.array([f'Cluster {label}' for label in clusters])\n",
    "\n",
    "# 获取聚类中心\n",
    "clustering_center = np.mean(data, axis=0)"
   ]
  },
  {
   "cell_type": "code",
   "execution_count": 11,
   "id": "f367c2b0",
   "metadata": {},
   "outputs": [
    {
     "name": "stdout",
     "output_type": "stream",
     "text": [
      "[  8  67  52  14  36  41  46 122 124  85  12 116  84  89 115 106 112  19\n",
      "  63  34  44  99  56  86  49  12  57  80  30 114  60  94  45  35  39  43\n",
      "  68  82  42 109  75 107  11  69  73  61  31  78  40  91  98  87  10 100\n",
      "  76  24  51  16 104  62  15  96  93  83  59  23  81  97 120 119 123  47\n",
      "  74 102   5 108  12  11   7  38 103 101  65  18 105  12  64  29  77  79\n",
      "  12   3  17  28   6 113 118  10   1   2  72  88  37  33  53  66  21  13\n",
      "  90  54  71 121  22  32 111  20  48  50  92 117  58   9  25  27  55  26\n",
      " 110  70   4  95]\n"
     ]
    }
   ],
   "source": [
    "# 打印聚类结果\n",
    "print(clusters)"
   ]
  },
  {
   "cell_type": "code",
   "execution_count": 12,
   "id": "c6dbf35b",
   "metadata": {},
   "outputs": [
    {
     "name": "stdout",
     "output_type": "stream",
     "text": [
      "Clustering Labels: ['Cluster 8' 'Cluster 67' 'Cluster 52' 'Cluster 14' 'Cluster 36'\n",
      " 'Cluster 41' 'Cluster 46' 'Cluster 122' 'Cluster 124' 'Cluster 85'\n",
      " 'Cluster 12' 'Cluster 116' 'Cluster 84' 'Cluster 89' 'Cluster 115'\n",
      " 'Cluster 106' 'Cluster 112' 'Cluster 19' 'Cluster 63' 'Cluster 34'\n",
      " 'Cluster 44' 'Cluster 99' 'Cluster 56' 'Cluster 86' 'Cluster 49'\n",
      " 'Cluster 12' 'Cluster 57' 'Cluster 80' 'Cluster 30' 'Cluster 114'\n",
      " 'Cluster 60' 'Cluster 94' 'Cluster 45' 'Cluster 35' 'Cluster 39'\n",
      " 'Cluster 43' 'Cluster 68' 'Cluster 82' 'Cluster 42' 'Cluster 109'\n",
      " 'Cluster 75' 'Cluster 107' 'Cluster 11' 'Cluster 69' 'Cluster 73'\n",
      " 'Cluster 61' 'Cluster 31' 'Cluster 78' 'Cluster 40' 'Cluster 91'\n",
      " 'Cluster 98' 'Cluster 87' 'Cluster 10' 'Cluster 100' 'Cluster 76'\n",
      " 'Cluster 24' 'Cluster 51' 'Cluster 16' 'Cluster 104' 'Cluster 62'\n",
      " 'Cluster 15' 'Cluster 96' 'Cluster 93' 'Cluster 83' 'Cluster 59'\n",
      " 'Cluster 23' 'Cluster 81' 'Cluster 97' 'Cluster 120' 'Cluster 119'\n",
      " 'Cluster 123' 'Cluster 47' 'Cluster 74' 'Cluster 102' 'Cluster 5'\n",
      " 'Cluster 108' 'Cluster 12' 'Cluster 11' 'Cluster 7' 'Cluster 38'\n",
      " 'Cluster 103' 'Cluster 101' 'Cluster 65' 'Cluster 18' 'Cluster 105'\n",
      " 'Cluster 12' 'Cluster 64' 'Cluster 29' 'Cluster 77' 'Cluster 79'\n",
      " 'Cluster 12' 'Cluster 3' 'Cluster 17' 'Cluster 28' 'Cluster 6'\n",
      " 'Cluster 113' 'Cluster 118' 'Cluster 10' 'Cluster 1' 'Cluster 2'\n",
      " 'Cluster 72' 'Cluster 88' 'Cluster 37' 'Cluster 33' 'Cluster 53'\n",
      " 'Cluster 66' 'Cluster 21' 'Cluster 13' 'Cluster 90' 'Cluster 54'\n",
      " 'Cluster 71' 'Cluster 121' 'Cluster 22' 'Cluster 32' 'Cluster 111'\n",
      " 'Cluster 20' 'Cluster 48' 'Cluster 50' 'Cluster 92' 'Cluster 117'\n",
      " 'Cluster 58' 'Cluster 9' 'Cluster 25' 'Cluster 27' 'Cluster 55'\n",
      " 'Cluster 26' 'Cluster 110' 'Cluster 70' 'Cluster 4' 'Cluster 95']\n",
      "Clustering Center: [ 0.00000000e+00 -1.36642834e-17  0.00000000e+00  0.00000000e+00\n",
      "  0.00000000e+00  0.00000000e+00  0.00000000e+00  0.00000000e+00\n",
      "  0.00000000e+00  0.00000000e+00  0.00000000e+00  1.36642834e-17\n",
      "  1.36642834e-17  1.36642834e-17  5.46571335e-17  0.00000000e+00\n",
      " -7.17374877e-17 -1.02482125e-17  1.36642834e-17  0.00000000e+00\n",
      "  3.75767793e-17  1.36642834e-17  0.00000000e+00  0.00000000e+00\n",
      "  0.00000000e+00  0.00000000e+00  0.00000000e+00 -3.41607085e-18\n",
      "  0.00000000e+00  0.00000000e+00  4.78249918e-17  0.00000000e+00\n",
      "  1.36642834e-17 -2.73285668e-17  1.36642834e-17  1.36642834e-17\n",
      "  1.36642834e-17  0.00000000e+00  0.00000000e+00 -1.36642834e-17\n",
      " -4.09928501e-17  1.36642834e-17 -6.83214169e-18  0.00000000e+00\n",
      "  0.00000000e+00 -4.27008856e-17  3.41607085e-18  0.00000000e+00\n",
      " -1.63971401e-16  1.36642834e-17 -3.24526730e-17 -2.73285668e-17\n",
      "  0.00000000e+00  8.54017711e-19  0.00000000e+00  0.00000000e+00\n",
      "  0.00000000e+00  0.00000000e+00  0.00000000e+00  0.00000000e+00\n",
      "  0.00000000e+00  1.36642834e-17  0.00000000e+00 -6.14892752e-17\n",
      "  0.00000000e+00  1.45183011e-17  0.00000000e+00 -1.36642834e-17\n",
      "  0.00000000e+00  1.36642834e-17  0.00000000e+00  0.00000000e+00\n",
      "  0.00000000e+00  0.00000000e+00  0.00000000e+00 -1.36642834e-17\n",
      "  1.36642834e-17  0.00000000e+00 -1.09314267e-16  1.36642834e-17\n",
      "  0.00000000e+00  1.36642834e-17 -5.46571335e-17  0.00000000e+00\n",
      "  0.00000000e+00  0.00000000e+00  0.00000000e+00  0.00000000e+00\n",
      "  0.00000000e+00 -5.46571335e-17  0.00000000e+00 -6.14892752e-17\n",
      "  0.00000000e+00 -6.14892752e-17 -8.88178420e-17 -1.36642834e-17\n",
      " -2.04964251e-17 -5.80732044e-17  1.36642834e-17  0.00000000e+00\n",
      "  0.00000000e+00 -3.07446376e-17  1.36642834e-17  0.00000000e+00\n",
      "  0.00000000e+00  0.00000000e+00  0.00000000e+00 -2.73285668e-17\n",
      " -3.84307970e-17  0.00000000e+00  1.36642834e-17  0.00000000e+00\n",
      "  1.36642834e-17  1.36642834e-17  0.00000000e+00  0.00000000e+00\n",
      " -1.70803542e-17 -5.80732044e-17  0.00000000e+00  0.00000000e+00\n",
      "  0.00000000e+00  0.00000000e+00 -4.09928501e-17 -4.09928501e-17\n",
      "  0.00000000e+00  0.00000000e+00  0.00000000e+00  0.00000000e+00\n",
      "  0.00000000e+00 -1.02482125e-17  0.00000000e+00  0.00000000e+00\n",
      " -4.09928501e-17 -1.02482125e-17  0.00000000e+00  1.36642834e-17\n",
      "  1.36642834e-17  1.36642834e-17  0.00000000e+00  1.36642834e-17\n",
      "  0.00000000e+00  0.00000000e+00  1.36642834e-17 -3.41607085e-17\n",
      "  4.09928501e-17  0.00000000e+00  1.36642834e-17  0.00000000e+00\n",
      "  0.00000000e+00  0.00000000e+00 -3.41607085e-17  0.00000000e+00\n",
      "  1.36642834e-17  2.81825845e-17 -2.04964251e-17  1.36642834e-17\n",
      "  3.41607085e-18  0.00000000e+00  0.00000000e+00  1.36642834e-17\n",
      "  0.00000000e+00  0.00000000e+00  1.36642834e-17  1.36642834e-17\n",
      "  0.00000000e+00  0.00000000e+00  0.00000000e+00 -1.09314267e-16\n",
      "  0.00000000e+00  0.00000000e+00  1.36642834e-17  2.13504428e-17\n",
      "  0.00000000e+00  1.36642834e-17  1.36642834e-17  0.00000000e+00\n",
      " -1.70803542e-17  0.00000000e+00  1.36642834e-17  0.00000000e+00\n",
      "  0.00000000e+00  0.00000000e+00 -1.36642834e-17  3.07446376e-17\n",
      " -1.22978550e-16  1.70803542e-17 -3.41607085e-18 -1.12730338e-16\n",
      "  1.36642834e-17  0.00000000e+00  0.00000000e+00  0.00000000e+00\n",
      "  0.00000000e+00  1.36642834e-17  0.00000000e+00  0.00000000e+00\n",
      " -4.78249918e-17 -4.78249918e-17  0.00000000e+00 -9.56499837e-17\n",
      "  0.00000000e+00  1.36642834e-17  1.36642834e-17  1.36642834e-17\n",
      "  1.36642834e-17  0.00000000e+00  1.36642834e-17  0.00000000e+00\n",
      "  0.00000000e+00  0.00000000e+00  1.36642834e-17  0.00000000e+00\n",
      "  0.00000000e+00  0.00000000e+00  3.07446376e-17  0.00000000e+00\n",
      "  0.00000000e+00  1.36642834e-17  0.00000000e+00  0.00000000e+00\n",
      "  3.92848147e-17 -1.53723188e-17  0.00000000e+00  0.00000000e+00\n",
      "  0.00000000e+00  0.00000000e+00  1.36642834e-17 -2.04964251e-17\n",
      "  0.00000000e+00 -2.73285668e-17  0.00000000e+00  0.00000000e+00\n",
      "  1.36642834e-17 -1.36642834e-17 -1.19562480e-17 -3.41607085e-17\n",
      "  8.54017711e-19  3.07446376e-17  0.00000000e+00 -6.83214169e-18\n",
      "  1.36642834e-17  0.00000000e+00  0.00000000e+00  0.00000000e+00\n",
      "  1.36642834e-17  1.36642834e-17  0.00000000e+00  1.36642834e-17\n",
      "  0.00000000e+00  0.00000000e+00  0.00000000e+00  1.45183011e-17\n",
      " -5.55111512e-17 -7.51535586e-17  0.00000000e+00  1.36642834e-17\n",
      "  0.00000000e+00  1.36642834e-17  0.00000000e+00  0.00000000e+00\n",
      "  0.00000000e+00  0.00000000e+00  0.00000000e+00  6.83214169e-18\n",
      "  0.00000000e+00  0.00000000e+00  1.36642834e-17  1.36642834e-17\n",
      "  1.36642834e-17  0.00000000e+00  1.36642834e-17  0.00000000e+00\n",
      " -4.09928501e-17  0.00000000e+00 -2.73285668e-17  1.36642834e-17\n",
      "  0.00000000e+00  0.00000000e+00  0.00000000e+00  0.00000000e+00\n",
      "  0.00000000e+00  1.36642834e-17 -8.54017711e-18 -2.73285668e-17\n",
      "  0.00000000e+00  0.00000000e+00  0.00000000e+00  1.36642834e-17\n",
      "  0.00000000e+00  0.00000000e+00  0.00000000e+00  0.00000000e+00\n",
      "  0.00000000e+00  1.36642834e-17  0.00000000e+00  6.83214169e-18\n",
      "  0.00000000e+00 -5.12410627e-17 -6.83214169e-17  0.00000000e+00\n",
      "  1.36642834e-17  0.00000000e+00  0.00000000e+00  0.00000000e+00\n",
      "  0.00000000e+00 -1.36642834e-17  0.00000000e+00  1.36642834e-17\n",
      "  0.00000000e+00  0.00000000e+00 -5.46571335e-17 -2.04964251e-17\n",
      "  1.36642834e-17 -6.49053461e-17  1.36642834e-17 -7.34455232e-17\n",
      "  0.00000000e+00  1.36642834e-17  1.36642834e-17  1.36642834e-17\n",
      " -2.39124959e-17  0.00000000e+00  0.00000000e+00  0.00000000e+00\n",
      " -9.56499837e-17  0.00000000e+00 -1.02482125e-17  1.36642834e-17\n",
      "  4.09928501e-17  1.36642834e-17  0.00000000e+00 -4.78249918e-17\n",
      "  2.04964251e-17 -6.83214169e-18 -1.02482125e-17  0.00000000e+00\n",
      "  0.00000000e+00  1.36642834e-17  1.36642834e-17  0.00000000e+00\n",
      "  0.00000000e+00  1.36642834e-17  0.00000000e+00  0.00000000e+00\n",
      "  0.00000000e+00  1.36642834e-17  0.00000000e+00  1.36642834e-17\n",
      "  0.00000000e+00 -2.04964251e-17  0.00000000e+00  0.00000000e+00\n",
      "  0.00000000e+00  2.73285668e-17  0.00000000e+00  1.45183011e-17\n",
      " -5.46571335e-17  0.00000000e+00  0.00000000e+00  1.36642834e-17\n",
      "  0.00000000e+00  0.00000000e+00 -3.24526730e-17 -6.83214169e-17\n",
      "  2.73285668e-17  1.36642834e-17 -6.49053461e-17 -2.73285668e-17\n",
      "  0.00000000e+00  0.00000000e+00  2.39124959e-17  0.00000000e+00\n",
      " -1.36642834e-17 -9.22339128e-17  0.00000000e+00  6.83214169e-18\n",
      "  0.00000000e+00 -4.78249918e-17  0.00000000e+00  1.36642834e-17\n",
      "  0.00000000e+00  1.36642834e-17  2.39124959e-17 -3.41607085e-17\n",
      "  4.95330273e-17  0.00000000e+00  0.00000000e+00 -5.97812398e-18\n",
      "  1.36642834e-17  1.36642834e-17 -3.75767793e-17  9.56499837e-17\n",
      "  1.36642834e-17  0.00000000e+00  1.36642834e-17  1.36642834e-17\n",
      "  1.36642834e-17  0.00000000e+00  1.36642834e-17  0.00000000e+00\n",
      "  0.00000000e+00  3.41607085e-17  2.39124959e-17  0.00000000e+00\n",
      " -2.73285668e-17  0.00000000e+00  0.00000000e+00  0.00000000e+00\n",
      " -6.83214169e-18  3.07446376e-17  0.00000000e+00  9.56499837e-17\n",
      " -4.95330273e-17 -2.39124959e-17  0.00000000e+00  0.00000000e+00\n",
      "  3.07446376e-17  1.36642834e-17  0.00000000e+00  0.00000000e+00\n",
      "  0.00000000e+00  1.36642834e-17 -1.62263365e-17  1.36642834e-17\n",
      " -5.46571335e-17  0.00000000e+00  0.00000000e+00  0.00000000e+00\n",
      "  0.00000000e+00  1.36642834e-17  0.00000000e+00  0.00000000e+00\n",
      "  0.00000000e+00  0.00000000e+00  0.00000000e+00 -6.83214169e-18\n",
      " -1.70803542e-17  1.36642834e-17 -3.41607085e-17 -4.69709741e-18\n",
      "  3.41607085e-18 -7.51535586e-17  1.36642834e-17 -6.14892752e-17\n",
      "  0.00000000e+00  1.36642834e-17  0.00000000e+00  0.00000000e+00\n",
      "  0.00000000e+00  0.00000000e+00 -4.09928501e-17 -7.51535586e-17\n",
      " -2.73285668e-17 -1.28102657e-17  0.00000000e+00 -4.09928501e-17\n",
      " -1.96424074e-17  0.00000000e+00  6.83214169e-18  1.36642834e-17\n",
      "  1.02482125e-17  0.00000000e+00  0.00000000e+00  2.73285668e-17\n",
      "  0.00000000e+00  1.36642834e-17 -1.09314267e-16  1.36642834e-17\n",
      "  1.36642834e-17  0.00000000e+00  0.00000000e+00  0.00000000e+00\n",
      "  0.00000000e+00  0.00000000e+00  0.00000000e+00  0.00000000e+00\n",
      "  1.36642834e-17  1.36642834e-17  1.36642834e-17  2.04964251e-17\n",
      "  0.00000000e+00  0.00000000e+00  0.00000000e+00  1.36642834e-17\n",
      "  0.00000000e+00  0.00000000e+00 -3.33066907e-17  0.00000000e+00\n",
      "  0.00000000e+00  0.00000000e+00  6.83214169e-18 -1.36642834e-17\n",
      " -4.09928501e-17  1.36642834e-17 -1.96424074e-17  0.00000000e+00\n",
      "  1.36642834e-17  0.00000000e+00 -4.78249918e-17  0.00000000e+00\n",
      "  1.36642834e-17  0.00000000e+00  1.36642834e-17  0.00000000e+00\n",
      "  0.00000000e+00  1.36642834e-17  3.41607085e-18  0.00000000e+00\n",
      "  1.36642834e-17  2.73285668e-17  0.00000000e+00  0.00000000e+00\n",
      "  0.00000000e+00  0.00000000e+00  0.00000000e+00  0.00000000e+00\n",
      "  0.00000000e+00  0.00000000e+00  2.73285668e-17  1.36642834e-17\n",
      "  0.00000000e+00  2.39124959e-17  1.36642834e-17  0.00000000e+00\n",
      "  0.00000000e+00  0.00000000e+00 -2.04964251e-17  2.73285668e-17\n",
      "  1.36642834e-17  0.00000000e+00 -1.16146409e-16 -2.73285668e-17\n",
      "  0.00000000e+00 -5.46571335e-17  1.36642834e-17  0.00000000e+00\n",
      " -1.36642834e-17 -1.36642834e-17 -1.05898196e-16 -2.56205313e-17\n",
      "  0.00000000e+00  1.36642834e-17  0.00000000e+00  1.36642834e-17\n",
      "  0.00000000e+00 -4.09928501e-17  3.75767793e-17 -1.36642834e-17\n",
      "  0.00000000e+00  2.73285668e-17  0.00000000e+00  1.36642834e-17\n",
      "  0.00000000e+00  0.00000000e+00  0.00000000e+00  0.00000000e+00\n",
      "  4.44089210e-17  0.00000000e+00  0.00000000e+00  1.36642834e-17\n",
      "  0.00000000e+00 -2.73285668e-17  1.36642834e-17  1.36642834e-17\n",
      " -6.83214169e-18  0.00000000e+00  1.36642834e-17  0.00000000e+00\n",
      " -4.09928501e-17  2.73285668e-17  1.36642834e-17  1.36642834e-17\n",
      " -1.16146409e-16  1.36642834e-17  3.41607085e-18  0.00000000e+00\n",
      " -9.90660545e-17  0.00000000e+00 -2.04964251e-17  4.61169564e-17\n",
      "  0.00000000e+00  1.36642834e-17 -1.28102657e-17  0.00000000e+00\n",
      "  0.00000000e+00  0.00000000e+00  0.00000000e+00  0.00000000e+00\n",
      " -1.70803542e-17  4.95330273e-17 -2.39124959e-17  1.36642834e-17\n",
      "  0.00000000e+00  1.02482125e-17]\n"
     ]
    }
   ],
   "source": [
    "# 打印聚类结果和聚类中心\n",
    "print(\"Clustering Labels:\", clustering_labels)\n",
    "print(\"Clustering Center:\", clustering_center)"
   ]
  },
  {
   "cell_type": "markdown",
   "id": "0f003b83",
   "metadata": {},
   "source": [
    "## 评估"
   ]
  },
  {
   "cell_type": "markdown",
   "id": "65644cc7",
   "metadata": {},
   "source": [
    "### 轮廓系数"
   ]
  },
  {
   "cell_type": "code",
   "execution_count": 18,
   "id": "3d05307d",
   "metadata": {
    "scrolled": true
   },
   "outputs": [
    {
     "name": "stdout",
     "output_type": "stream",
     "text": [
      "0.01576555822815361\n"
     ]
    }
   ],
   "source": [
    "from sklearn.metrics import silhouette_score\n",
    "silhouette_avg = silhouette_score(data, clustering_labels)\n",
    "print(silhouette_avg)"
   ]
  },
  {
   "cell_type": "markdown",
   "id": "5eacb4d0",
   "metadata": {},
   "source": [
    "#### Dumn指数和DB指数"
   ]
  },
  {
   "cell_type": "code",
   "execution_count": 20,
   "id": "0abd45bf",
   "metadata": {},
   "outputs": [
    {
     "name": "stdout",
     "output_type": "stream",
     "text": [
      "Dunn Index: 0.12309149097933274\n",
      "DB Index: 0.32871999547509245\n"
     ]
    }
   ],
   "source": [
    "from sklearn.metrics import pairwise_distances\n",
    "from sklearn.metrics import davies_bouldin_score\n",
    "import numpy as np\n",
    "\n",
    "# 计算样本间的距离矩阵\n",
    "distance_matrix = pairwise_distances(data)\n",
    "\n",
    "# 计算类别内的最小距离\n",
    "min_distances = np.min(distance_matrix[np.nonzero(distance_matrix)])\n",
    "\n",
    "# 计算类间的最大距离\n",
    "max_distances = np.max(distance_matrix)\n",
    "\n",
    "# 计算Dunn指数\n",
    "dunn_index = min_distances / max_distances\n",
    "\n",
    "# 计算DB指数\n",
    "db_index = davies_bouldin_score(data, clusters)\n",
    "\n",
    "# 打印指数\n",
    "print(\"Dunn Index:\", dunn_index)\n",
    "print(\"DB Index:\", db_index)"
   ]
  },
  {
   "cell_type": "markdown",
   "id": "e78ceede",
   "metadata": {},
   "source": [
    "#### 霍普金斯Hopkins statics统计方法"
   ]
  },
  {
   "cell_type": "code",
   "execution_count": 13,
   "id": "013a5416",
   "metadata": {},
   "outputs": [],
   "source": [
    "from sklearn.neighbors import NearestNeighbors\n",
    "\n",
    "def hopkins(X):\n",
    "    n = X.shape[0]  # 数据集中样本点的数量\n",
    "    d = X.shape[1]  # 数据集中每个样本点的维度\n",
    "\n",
    "    # 计算样本点之间的距离矩阵\n",
    "    nbrs = NearestNeighbors(n_neighbors=1).fit(X)\n",
    "    distances, _ = nbrs.kneighbors(X)\n",
    "    rand_X = np.random.uniform(low=X.min(axis=0), high=X.max(axis=0), size=(n, d))\n",
    "\n",
    "    # 计算样本点与随机点之间的距离矩阵\n",
    "    nbrs_rand = NearestNeighbors(n_neighbors=1).fit(rand_X)\n",
    "    rand_distances, _ = nbrs_rand.kneighbors(rand_X)\n",
    "\n",
    "    # 计算Hopkins统计量\n",
    "    u = distances.sum()\n",
    "    w = rand_distances.sum()\n",
    "    hopkins_statistic = u / (u + w)\n",
    "\n",
    "    return hopkins_statistic"
   ]
  },
  {
   "cell_type": "code",
   "execution_count": 50,
   "id": "1bd05487",
   "metadata": {},
   "outputs": [],
   "source": [
    "# 根据聚类标签提取每个聚类的样本点\n",
    "cluster_samples = []\n",
    "unique_labels = np.unique(clustering_labels)\n",
    "for label in unique_labels:\n",
    "    samples = clusters[np.where(cluster_labels == label)]\n",
    "    cluster_samples.append(samples)"
   ]
  },
  {
   "cell_type": "code",
   "execution_count": null,
   "id": "6b99253b",
   "metadata": {},
   "outputs": [],
   "source": [
    "# 计算每个聚类的Hopkins统计量\n",
    "hopkins_scores = []\n",
    "for samples in cluster_samples:\n",
    "    score = hopkins(samples)\n",
    "    hopkins_scores.append(score)\n",
    "\n",
    "# 打印每个聚类的Hopkins统计量\n",
    "for i, score in enumerate(hopkins_scores):\n",
    "    print(\"Cluster\", unique_labels[i], \"Hopkins Statistic:\", score)\n",
    "\n",
    "# 计算总体Hopkins统计量（可选）\n",
    "total_hopkins_score = np.mean(hopkins_scores)\n",
    "print(\"Total Hopkins Statistic:\", total_hopkins_score)"
   ]
  },
  {
   "cell_type": "markdown",
   "id": "a24089b0",
   "metadata": {},
   "source": [
    "## 可视化"
   ]
  },
  {
   "cell_type": "code",
   "execution_count": 9,
   "id": "34b8e492",
   "metadata": {},
   "outputs": [
    {
     "data": {
      "image/png": "[encoded data removed]",
      "text/plain": [
       "<Figure size 640x480 with 1 Axes>"
      ]
     },
     "metadata": {},
     "output_type": "display_data"
    }
   ],
   "source": [
    "from scipy.cluster import hierarchy\n",
    "import matplotlib.pyplot as plt\n",
    "\n",
    "# 计算距离矩阵\n",
    "distance_matrix = hierarchy.distance.pdist(data)\n",
    "\n",
    "# 进行层次聚类\n",
    "linkage = hierarchy.linkage(distance_matrix, method='average')\n",
    "\n",
    "# 绘制树状图\n",
    "dendrogram = hierarchy.dendrogram(linkage)\n",
    "plt.xlabel('Samples')\n",
    "plt.ylabel('Distance')\n",
    "plt.title('Dendrogram')\n",
    "plt.show()"
   ]
  },
  {
   "cell_type": "code",
   "execution_count": null,
   "id": "9b4870f3",
   "metadata": {},
   "outputs": [],
   "source": []
  }
 ],
 "metadata": {
  "kernelspec": {
   "display_name": "Python 3 (ipykernel)",
   "language": "python",
   "name": "python3"
  },
  "language_info": {
   "codemirror_mode": {
    "name": "ipython",
    "version": 3
   },
   "file_extension": ".py",
   "mimetype": "text/x-python",
   "name": "python",
   "nbconvert_exporter": "python",
   "pygments_lexer": "ipython3",
   "version": "3.9.13"
  }
 },
 "nbformat": 4,
 "nbformat_minor": 5
}
