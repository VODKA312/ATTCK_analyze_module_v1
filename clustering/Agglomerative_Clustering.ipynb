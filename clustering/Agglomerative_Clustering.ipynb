{
 "cells": [
  {
   "cell_type": "markdown",
   "id": "beb0318c",
   "metadata": {},
   "source": [
    "# Agglomerative Clustering 层次聚类算法"
   ]
  },
  {
   "cell_type": "markdown",
   "id": "6695b192",
   "metadata": {},
   "source": [
    "## 读取源数据"
   ]
  },
  {
   "cell_type": "code",
   "execution_count": 11,
   "id": "adc8b192",
   "metadata": {},
   "outputs": [],
   "source": [
    "import pandas as pd\n",
    "import numpy as np"
   ]
  },
  {
   "cell_type": "code",
   "execution_count": 12,
   "id": "6eeb2fa4",
   "metadata": {},
   "outputs": [],
   "source": [
    "#读取源数据\n",
    "data = pd.read_excel(\"../DataSource/result.xlsx\")"
   ]
  },
  {
   "cell_type": "markdown",
   "id": "a9913b2b",
   "metadata": {},
   "source": [
    "## 构建距离矩阵并聚类"
   ]
  },
  {
   "cell_type": "code",
   "execution_count": 13,
   "id": "310ed276",
   "metadata": {},
   "outputs": [],
   "source": [
    "# 去除 'source ID' 列\n",
    "data = data.drop('source ID', axis=1)"
   ]
  },
  {
   "cell_type": "code",
   "execution_count": 14,
   "id": "786c8a36",
   "metadata": {},
   "outputs": [],
   "source": [
    "from scipy.cluster import hierarchy\n",
    "\n",
    "# 准备数据，假设您的数据存储在变量data中\n",
    "\n",
    "# 计算距离矩阵\n",
    "distance_matrix = hierarchy.distance.pdist(data)"
   ]
  },
  {
   "cell_type": "code",
   "execution_count": 15,
   "id": "268b9e3a",
   "metadata": {},
   "outputs": [],
   "source": [
    "# 进行层次聚类\n",
    "linkage = hierarchy.linkage(distance_matrix, method='average')\n",
    "\n",
    "# 根据需求选择聚类数目，设置阈值\n",
    "threshold = 2.0 # 示例阈值\n",
    "\n",
    "# 获取聚类结果\n",
    "clusters = hierarchy.fcluster(linkage, threshold, criterion='distance')\n",
    "\n",
    "# 生成聚类标签\n",
    "clustering_labels = np.array([f'Cluster {label}' for label in clusters])\n",
    "\n",
    "# 获取聚类中心\n",
    "clustering_center = np.mean(data, axis=0)"
   ]
  },
  {
   "cell_type": "code",
   "execution_count": 16,
   "id": "f367c2b0",
   "metadata": {},
   "outputs": [
    {
     "name": "stdout",
     "output_type": "stream",
     "text": [
      "[ 29  87  50  35  35  24  81 117 118  98  50 115   9  90  99 106 111  52\n",
      "  66  59  76  82  74   7  78  35  72  85  33 112  42  92  13  58  25  47\n",
      "  62  11  63 110  22 102  49  19  41  69  64  67  68  96  95  10  45  97\n",
      "  93  35  60  51 104  75  37  86  94  12  14  46  84 105 116 101 119  17\n",
      "  83 100  32 109  35  49  18  70 108   5  20  48 107  35  61  34  65   8\n",
      "  35  26  38  54  30   3 114  35  21  15  88  77  35  28  80  36  43  50\n",
      "  91  71  79   4  53  40   1  39  73  23   6 113  44  31  57  56  16  55\n",
      " 103  89  27   2]\n"
     ]
    }
   ],
   "source": [
    "# 打印聚类结果\n",
    "print(clusters)"
   ]
  },
  {
   "cell_type": "code",
   "execution_count": 17,
   "id": "c6dbf35b",
   "metadata": {},
   "outputs": [
    {
     "name": "stdout",
     "output_type": "stream",
     "text": [
      "Clustering Labels: ['Cluster 29' 'Cluster 87' 'Cluster 50' 'Cluster 35' 'Cluster 35'\n",
      " 'Cluster 24' 'Cluster 81' 'Cluster 117' 'Cluster 118' 'Cluster 98'\n",
      " 'Cluster 50' 'Cluster 115' 'Cluster 9' 'Cluster 90' 'Cluster 99'\n",
      " 'Cluster 106' 'Cluster 111' 'Cluster 52' 'Cluster 66' 'Cluster 59'\n",
      " 'Cluster 76' 'Cluster 82' 'Cluster 74' 'Cluster 7' 'Cluster 78'\n",
      " 'Cluster 35' 'Cluster 72' 'Cluster 85' 'Cluster 33' 'Cluster 112'\n",
      " 'Cluster 42' 'Cluster 92' 'Cluster 13' 'Cluster 58' 'Cluster 25'\n",
      " 'Cluster 47' 'Cluster 62' 'Cluster 11' 'Cluster 63' 'Cluster 110'\n",
      " 'Cluster 22' 'Cluster 102' 'Cluster 49' 'Cluster 19' 'Cluster 41'\n",
      " 'Cluster 69' 'Cluster 64' 'Cluster 67' 'Cluster 68' 'Cluster 96'\n",
      " 'Cluster 95' 'Cluster 10' 'Cluster 45' 'Cluster 97' 'Cluster 93'\n",
      " 'Cluster 35' 'Cluster 60' 'Cluster 51' 'Cluster 104' 'Cluster 75'\n",
      " 'Cluster 37' 'Cluster 86' 'Cluster 94' 'Cluster 12' 'Cluster 14'\n",
      " 'Cluster 46' 'Cluster 84' 'Cluster 105' 'Cluster 116' 'Cluster 101'\n",
      " 'Cluster 119' 'Cluster 17' 'Cluster 83' 'Cluster 100' 'Cluster 32'\n",
      " 'Cluster 109' 'Cluster 35' 'Cluster 49' 'Cluster 18' 'Cluster 70'\n",
      " 'Cluster 108' 'Cluster 5' 'Cluster 20' 'Cluster 48' 'Cluster 107'\n",
      " 'Cluster 35' 'Cluster 61' 'Cluster 34' 'Cluster 65' 'Cluster 8'\n",
      " 'Cluster 35' 'Cluster 26' 'Cluster 38' 'Cluster 54' 'Cluster 30'\n",
      " 'Cluster 3' 'Cluster 114' 'Cluster 35' 'Cluster 21' 'Cluster 15'\n",
      " 'Cluster 88' 'Cluster 77' 'Cluster 35' 'Cluster 28' 'Cluster 80'\n",
      " 'Cluster 36' 'Cluster 43' 'Cluster 50' 'Cluster 91' 'Cluster 71'\n",
      " 'Cluster 79' 'Cluster 4' 'Cluster 53' 'Cluster 40' 'Cluster 1'\n",
      " 'Cluster 39' 'Cluster 73' 'Cluster 23' 'Cluster 6' 'Cluster 113'\n",
      " 'Cluster 44' 'Cluster 31' 'Cluster 57' 'Cluster 56' 'Cluster 16'\n",
      " 'Cluster 55' 'Cluster 103' 'Cluster 89' 'Cluster 27' 'Cluster 2']\n",
      "Clustering Center: T1548        0.000000\n",
      "T1548.002    0.069231\n",
      "T1548.004    0.000000\n",
      "T1548.001    0.000000\n",
      "T1548.003    0.000000\n",
      "               ...   \n",
      "T1102.002    0.123077\n",
      "T1102.001    0.038462\n",
      "T1102.003    0.007692\n",
      "T1047        0.200000\n",
      "T1220        0.023077\n",
      "Length: 594, dtype: float64\n"
     ]
    }
   ],
   "source": [
    "# 打印聚类结果和聚类中心\n",
    "print(\"Clustering Labels:\", clustering_labels)\n",
    "print(\"Clustering Center:\", clustering_center)"
   ]
  },
  {
   "cell_type": "markdown",
   "id": "0f003b83",
   "metadata": {},
   "source": [
    "## 评估"
   ]
  },
  {
   "cell_type": "markdown",
   "id": "65644cc7",
   "metadata": {},
   "source": [
    "### 轮廓系数"
   ]
  },
  {
   "cell_type": "code",
   "execution_count": 18,
   "id": "3d05307d",
   "metadata": {
    "scrolled": true
   },
   "outputs": [
    {
     "name": "stdout",
     "output_type": "stream",
     "text": [
      "0.01576555822815361\n"
     ]
    }
   ],
   "source": [
    "from sklearn.metrics import silhouette_score\n",
    "silhouette_avg = silhouette_score(data, clustering_labels)\n",
    "print(silhouette_avg)"
   ]
  },
  {
   "cell_type": "markdown",
   "id": "5eacb4d0",
   "metadata": {},
   "source": [
    "#### Dumn指数和DB指数"
   ]
  },
  {
   "cell_type": "code",
   "execution_count": 20,
   "id": "0abd45bf",
   "metadata": {},
   "outputs": [
    {
     "name": "stdout",
     "output_type": "stream",
     "text": [
      "Dunn Index: 0.12309149097933274\n",
      "DB Index: 0.32871999547509245\n"
     ]
    }
   ],
   "source": [
    "from sklearn.metrics import pairwise_distances\n",
    "from sklearn.metrics import davies_bouldin_score\n",
    "import numpy as np\n",
    "\n",
    "# 计算样本间的距离矩阵\n",
    "distance_matrix = pairwise_distances(data)\n",
    "\n",
    "# 计算类别内的最小距离\n",
    "min_distances = np.min(distance_matrix[np.nonzero(distance_matrix)])\n",
    "\n",
    "# 计算类间的最大距离\n",
    "max_distances = np.max(distance_matrix)\n",
    "\n",
    "# 计算Dunn指数\n",
    "dunn_index = min_distances / max_distances\n",
    "\n",
    "# 计算DB指数\n",
    "db_index = davies_bouldin_score(data, clusters)\n",
    "\n",
    "# 打印指数\n",
    "print(\"Dunn Index:\", dunn_index)\n",
    "print(\"DB Index:\", db_index)"
   ]
  },
  {
   "cell_type": "markdown",
   "id": "a24089b0",
   "metadata": {},
   "source": [
    "## 可视化"
   ]
  },
  {
   "cell_type": "code",
   "execution_count": null,
   "id": "34b8e492",
   "metadata": {},
   "outputs": [],
   "source": [
    "from scipy.cluster import hierarchy\n",
    "import matplotlib.pyplot as plt\n",
    "\n",
    "# 计算距离矩阵\n",
    "distance_matrix = hierarchy.distance.pdist(data)\n",
    "\n",
    "# 进行层次聚类\n",
    "linkage = hierarchy.linkage(distance_matrix, method='average')\n",
    "\n",
    "# 绘制树状图\n",
    "dendrogram = hierarchy.dendrogram(linkage)\n",
    "plt.xlabel('Samples')\n",
    "plt.ylabel('Distance')\n",
    "plt.title('Dendrogram')\n",
    "plt.show()"
   ]
  },
  {
   "cell_type": "code",
   "execution_count": 22,
   "id": "01ee2d12",
   "metadata": {},
   "outputs": [
    {
     "data": {
      "image/png": "[encoded data removed]",
      "text/plain": [
       "<Figure size 640x480 with 2 Axes>"
      ]
     },
     "metadata": {},
     "output_type": "display_data"
    }
   ],
   "source": [
    "import matplotlib.pyplot as plt\n",
    "\n",
    "# 使用降维方法如PCA将数据映射到二维空间\n",
    "from sklearn.decomposition import PCA\n",
    "pca = PCA(n_components=2)\n",
    "data_2d = pca.fit_transform(data)\n",
    "\n",
    "# 绘制散点图，颜色表示聚类结果\n",
    "plt.scatter(data_2d[:, 0], data_2d[:, 1], c=clusters)\n",
    "plt.xlabel('Dimension 1')\n",
    "plt.ylabel('Dimension 2')\n",
    "plt.title('Clustering Visualization')\n",
    "plt.colorbar(label='Cluster')\n",
    "plt.show()"
   ]
  },
  {
   "cell_type": "code",
   "execution_count": null,
   "id": "9b4870f3",
   "metadata": {},
   "outputs": [],
   "source": []
  }
 ],
 "metadata": {
  "kernelspec": {
   "display_name": "Python 3 (ipykernel)",
   "language": "python",
   "name": "python3"
  },
  "language_info": {
   "codemirror_mode": {
    "name": "ipython",
    "version": 3
   },
   "file_extension": ".py",
   "mimetype": "text/x-python",
   "name": "python",
   "nbconvert_exporter": "python",
   "pygments_lexer": "ipython3",
   "version": "3.9.13"
  }
 },
 "nbformat": 4,
 "nbformat_minor": 5
}
