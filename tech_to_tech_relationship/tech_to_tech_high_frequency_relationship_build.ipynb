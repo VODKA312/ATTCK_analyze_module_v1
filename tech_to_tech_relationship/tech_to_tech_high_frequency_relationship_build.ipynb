{
 "cells": [
  {
   "cell_type": "markdown",
   "id": "e9145447",
   "metadata": {},
   "source": [
    "# 提取json文件中的高频率tech并设定阈值"
   ]
  },
  {
   "cell_type": "code",
   "execution_count": 36,
   "id": "c4698cd3",
   "metadata": {
    "scrolled": true
   },
   "outputs": [
    {
     "name": "stdout",
     "output_type": "stream",
     "text": [
      "    technique_id_1 technique_id_2\n",
      "0        T1021.001          T1018\n",
      "1        T1021.001          T1047\n",
      "2        T1021.001      T1583.001\n",
      "3        T1021.001          T1140\n",
      "4        T1021.001          T1189\n",
      "..             ...            ...\n",
      "606          T1027      T1566.001\n",
      "607          T1027      T1204.002\n",
      "608          T1105      T1566.001\n",
      "609          T1105      T1204.002\n",
      "610      T1566.001      T1204.002\n",
      "\n",
      "[434 rows x 2 columns]\n"
     ]
    }
   ],
   "source": [
    "import json\n",
    "import pandas as pd\n",
    "\n",
    "# 读取JSON文件\n",
    "with open('../clustering/frequency_id.json', 'r') as json_file:\n",
    "    data = json.load(json_file)\n",
    "\n",
    "# 过滤出usage_count大于25的数据\n",
    "filtered_data = [entry for entry in data if entry['usage_count'] > 25]\n",
    "\n",
    "# 提取technique_id\n",
    "technique_ids = [entry['technique_id'] for entry in filtered_data]\n",
    "\n",
    "# 生成两两组合\n",
    "combinations = []\n",
    "# 遍历给定的列表并将元素两两关联\n",
    "for i in range(len(technique_ids)):\n",
    "    for j in range(i + 1, len(technique_ids)):\n",
    "        for item1 in technique_ids[i]:\n",
    "            for item2 in range(i + 1, len(technique_ids[i])):\n",
    "                combinations.append((item1, technique_ids[i][item2]))\n",
    "            for item3 in technique_ids[j]:\n",
    "                combinations.append((item1, item3))\n",
    "\n",
    "# 创建数据框\n",
    "df = pd.DataFrame(combinations, columns=['technique_id_1', 'technique_id_2'])\n",
    "# 使用drop_duplicates方法去除重复行\n",
    "df = df.drop_duplicates()\n",
    "print(df)"
   ]
  },
  {
   "cell_type": "code",
   "execution_count": 38,
   "id": "837fe678",
   "metadata": {},
   "outputs": [],
   "source": [
    "import json\n",
    "import pandas as pd\n",
    "\n",
    "# 读取JSON文件\n",
    "with open('../clustering/frequency_id.json', 'r') as json_file:\n",
    "    data = json.load(json_file)\n",
    "    \n",
    "def generate_technique_relations(data, min_usage_count):\n",
    "    # 过滤出usage_count大于25的数据\n",
    "    filtered_data = [entry for entry in data if entry['usage_count'] > 25]\n",
    "\n",
    "    # 提取technique_id\n",
    "    technique_ids = [entry['technique_id'] for entry in filtered_data]\n",
    "\n",
    "    # 生成两两组合\n",
    "    combinations = []\n",
    "    # 遍历给定的列表并将元素两两关联\n",
    "    for i in range(len(technique_ids)):\n",
    "        for j in range(i + 1, len(technique_ids)):\n",
    "            for item1 in technique_ids[i]:\n",
    "                for item2 in range(i + 1, len(technique_ids[i])):\n",
    "                    combinations.append((item1, technique_ids[i][item2]))\n",
    "                for item3 in technique_ids[j]:\n",
    "                    combinations.append((item1, item3))\n",
    "\n",
    "    # 创建数据框\n",
    "    df = pd.DataFrame(combinations, columns=['technique_id_1', 'technique_id_2'])\n",
    "\n",
    "    return df"
   ]
  },
  {
   "cell_type": "markdown",
   "id": "62b4fe47",
   "metadata": {},
   "source": [
    "# 在datasource中构建tech_to_tech 关系表"
   ]
  },
  {
   "cell_type": "code",
   "execution_count": 40,
   "id": "74ef5887",
   "metadata": {},
   "outputs": [],
   "source": [
    "# 调用函数并生成excel文件\n",
    "result_df = generate_technique_relations(data, 25)\n",
    "result_df = result_df.drop_duplicates()\n",
    "result_df.to_excel('../DataSource/technique_relations.xlsx', sheet_name='frequency_25', index=False, engine='openpyxl')"
   ]
  },
  {
   "cell_type": "code",
   "execution_count": null,
   "id": "ea3bf916",
   "metadata": {},
   "outputs": [],
   "source": []
  }
 ],
 "metadata": {
  "kernelspec": {
   "display_name": "Python 3 (ipykernel)",
   "language": "python",
   "name": "python3"
  },
  "language_info": {
   "codemirror_mode": {
    "name": "ipython",
    "version": 3
   },
   "file_extension": ".py",
   "mimetype": "text/x-python",
   "name": "python",
   "nbconvert_exporter": "python",
   "pygments_lexer": "ipython3",
   "version": "3.11.4"
  }
 },
 "nbformat": 4,
 "nbformat_minor": 5
}
