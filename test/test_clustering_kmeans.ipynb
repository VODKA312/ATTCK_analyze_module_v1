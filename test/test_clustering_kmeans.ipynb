{
 "cells": [
  {
   "cell_type": "markdown",
   "id": "e4339df1",
   "metadata": {},
   "source": [
    "## K-Means算法进行聚类"
   ]
  },
  {
   "cell_type": "code",
   "execution_count": 7,
   "id": "5bb8751b",
   "metadata": {},
   "outputs": [],
   "source": [
    "from sklearn.cluster import KMeans\n",
    "import pandas as pd"
   ]
  },
  {
   "cell_type": "markdown",
   "id": "23def536",
   "metadata": {},
   "source": [
    "### 读取源数据并构建特征矩阵"
   ]
  },
  {
   "cell_type": "code",
   "execution_count": 25,
   "id": "d0e5c9c3",
   "metadata": {},
   "outputs": [],
   "source": [
    "#读取源数据\n",
    "data = pd.read_excel(\"../DataSource/result.xlsx\")"
   ]
  },
  {
   "cell_type": "code",
   "execution_count": 26,
   "id": "076bc148",
   "metadata": {},
   "outputs": [
    {
     "name": "stdout",
     "output_type": "stream",
     "text": [
      "    source ID  T1548  T1548.002  T1548.004  T1548.001  T1548.003  T1134  \\\n",
      "0       G0099      0          0          0          0          0      0   \n",
      "1       G0006      0          0          0          0          0      0   \n",
      "2       G0005      0          0          0          0          0      0   \n",
      "3       G0023      0          0          0          0          0      0   \n",
      "4       G0025      0          0          0          0          0      0   \n",
      "..        ...    ...        ...        ...        ...        ...    ...   \n",
      "125     G0044      0          0          0          0          0      0   \n",
      "126     G0102      0          0          0          0          0      0   \n",
      "127     G0128      0          0          0          0          0      0   \n",
      "128     G0018      0          0          0          0          0      0   \n",
      "129     G0045      0          0          0          0          0      0   \n",
      "\n",
      "     T1134.002  T1134.003  T1134.004  ...  T1497.002  T1600  T1600.002  \\\n",
      "0            0          0          0  ...          0      0          0   \n",
      "1            0          0          0  ...          0      0          0   \n",
      "2            0          0          0  ...          0      0          0   \n",
      "3            0          0          0  ...          0      0          0   \n",
      "4            0          0          0  ...          0      0          0   \n",
      "..         ...        ...        ...  ...        ...    ...        ...   \n",
      "125          0          0          0  ...          0      0          0   \n",
      "126          0          0          0  ...          0      0          0   \n",
      "127          0          0          0  ...          0      0          0   \n",
      "128          0          0          0  ...          0      0          0   \n",
      "129          0          0          0  ...          0      0          0   \n",
      "\n",
      "     T1600.001  T1102  T1102.002  T1102.001  T1102.003  T1047  T1220  \n",
      "0            0      0          0          0          0      0      0  \n",
      "1            0      0          0          0          0      0      0  \n",
      "2            0      0          1          0          0      0      0  \n",
      "3            0      0          0          0          0      0      0  \n",
      "4            0      0          0          0          0      0      0  \n",
      "..         ...    ...        ...        ...        ...    ...    ...  \n",
      "125          0      0          0          0          0      0      0  \n",
      "126          0      0          0          0          0      1      0  \n",
      "127          0      0          1          0          0      0      0  \n",
      "128          0      0          0          0          0      0      0  \n",
      "129          0      0          0          0          0      1      0  \n",
      "\n",
      "[130 rows x 595 columns]\n"
     ]
    }
   ],
   "source": [
    "print(data)"
   ]
  },
  {
   "cell_type": "code",
   "execution_count": 27,
   "id": "e26063c4",
   "metadata": {},
   "outputs": [],
   "source": [
    "# 提取特征列数据，构建特征矩阵\n",
    "feature_columns = data.columns[1:]  # 选择除了第一列之外的所有列作为特征列\n",
    "X = data[feature_columns].values"
   ]
  },
  {
   "cell_type": "code",
   "execution_count": 28,
   "id": "9bf64117",
   "metadata": {},
   "outputs": [
    {
     "name": "stdout",
     "output_type": "stream",
     "text": [
      "(130, 594)\n"
     ]
    }
   ],
   "source": [
    "# 输出特征矩阵\n",
    "print(X.shape)"
   ]
  },
  {
   "cell_type": "markdown",
   "id": "c3d72011",
   "metadata": {},
   "source": [
    "### 聚类"
   ]
  },
  {
   "cell_type": "code",
   "execution_count": 29,
   "id": "22b15d27",
   "metadata": {},
   "outputs": [
    {
     "name": "stderr",
     "output_type": "stream",
     "text": [
      "D:\\Anaconda3\\lib\\site-packages\\sklearn\\cluster\\_kmeans.py:870: FutureWarning: The default value of `n_init` will change from 10 to 'auto' in 1.4. Set the value of `n_init` explicitly to suppress the warning\n",
      "  warnings.warn(\n",
      "D:\\Anaconda3\\lib\\site-packages\\sklearn\\cluster\\_kmeans.py:1382: UserWarning: KMeans is known to have a memory leak on Windows with MKL, when there are less chunks than available threads. You can avoid it by setting the environment variable OMP_NUM_THREADS=1.\n",
      "  warnings.warn(\n"
     ]
    }
   ],
   "source": [
    "# 指定聚类数目\n",
    "k = 3\n",
    "\n",
    "# 创建K-Means模型并进行训练\n",
    "kmeans = KMeans(n_clusters=k)\n",
    "kmeans.fit(X)\n",
    "\n",
    "# 获取聚类标签\n",
    "labels = kmeans.labels_\n",
    "\n",
    "# 获取聚类中心\n",
    "centers = kmeans.cluster_centers_\n",
    "\n",
    "# 将聚类标签和中心添加到数据集中\n",
    "data['clustering_label'] = labels\n",
    "data['clustering_center'] = [centers[label] for label in labels]"
   ]
  },
  {
   "cell_type": "code",
   "execution_count": 30,
   "id": "0da898a1",
   "metadata": {},
   "outputs": [
    {
     "name": "stdout",
     "output_type": "stream",
     "text": [
      "    source ID  T1548  T1548.002  T1548.004  T1548.001  T1548.003  T1134  \\\n",
      "0       G0099      0          0          0          0          0      0   \n",
      "1       G0006      0          0          0          0          0      0   \n",
      "2       G0005      0          0          0          0          0      0   \n",
      "3       G0023      0          0          0          0          0      0   \n",
      "4       G0025      0          0          0          0          0      0   \n",
      "..        ...    ...        ...        ...        ...        ...    ...   \n",
      "125     G0044      0          0          0          0          0      0   \n",
      "126     G0102      0          0          0          0          0      0   \n",
      "127     G0128      0          0          0          0          0      0   \n",
      "128     G0018      0          0          0          0          0      0   \n",
      "129     G0045      0          0          0          0          0      0   \n",
      "\n",
      "     T1134.002  T1134.003  T1134.004  ...  T1600.002  T1600.001  T1102  \\\n",
      "0            0          0          0  ...          0          0      0   \n",
      "1            0          0          0  ...          0          0      0   \n",
      "2            0          0          0  ...          0          0      0   \n",
      "3            0          0          0  ...          0          0      0   \n",
      "4            0          0          0  ...          0          0      0   \n",
      "..         ...        ...        ...  ...        ...        ...    ...   \n",
      "125          0          0          0  ...          0          0      0   \n",
      "126          0          0          0  ...          0          0      0   \n",
      "127          0          0          0  ...          0          0      0   \n",
      "128          0          0          0  ...          0          0      0   \n",
      "129          0          0          0  ...          0          0      0   \n",
      "\n",
      "     T1102.002  T1102.001  T1102.003  T1047  T1220  clustering_label  \\\n",
      "0            0          0          0      0      0                 0   \n",
      "1            0          0          0      0      0                 0   \n",
      "2            1          0          0      0      0                 0   \n",
      "3            0          0          0      0      0                 0   \n",
      "4            0          0          0      0      0                 0   \n",
      "..         ...        ...        ...    ...    ...               ...   \n",
      "125          0          0          0      0      0                 0   \n",
      "126          0          0          0      1      0                 2   \n",
      "127          1          0          0      0      0                 1   \n",
      "128          0          0          0      0      0                 0   \n",
      "129          0          0          0      1      0                 2   \n",
      "\n",
      "                                     clustering_center  \n",
      "0    [0.0, 0.012820512820512775, 0.0, 0.0, 0.0, 0.0...  \n",
      "1    [0.0, 0.012820512820512775, 0.0, 0.0, 0.0, 0.0...  \n",
      "2    [0.0, 0.012820512820512775, 0.0, 0.0, 0.0, 0.0...  \n",
      "3    [0.0, 0.012820512820512775, 0.0, 0.0, 0.0, 0.0...  \n",
      "4    [0.0, 0.012820512820512775, 0.0, 0.0, 0.0, 0.0...  \n",
      "..                                                 ...  \n",
      "125  [0.0, 0.012820512820512775, 0.0, 0.0, 0.0, 0.0...  \n",
      "126  [0.0, 0.14285714285714288, 0.0, 0.0, 0.0, 0.0,...  \n",
      "127  [0.0, 0.16129032258064502, 0.0, 0.0, 0.0, 0.03...  \n",
      "128  [0.0, 0.012820512820512775, 0.0, 0.0, 0.0, 0.0...  \n",
      "129  [0.0, 0.14285714285714288, 0.0, 0.0, 0.0, 0.0,...  \n",
      "\n",
      "[130 rows x 597 columns]\n"
     ]
    }
   ],
   "source": [
    "print(data)"
   ]
  },
  {
   "cell_type": "markdown",
   "id": "cc7fb5ca",
   "metadata": {},
   "source": [
    "### 评估\n",
    "评估聚类效果的常见算法和指标有以下几种：\n",
    "\n",
    "轮廓系数（Silhouette Coefficient）：轮廓系数衡量样本与其所属聚类的相似性和与其他聚类的差异程度。它的取值范围在[-1, 1]之间，值越接近1表示聚类效果越好。\n",
    "\n",
    "互信息（Mutual Information）：互信息度量聚类结果与真实类别之间的一致性。它的取值范围在[0, 1]之间，值越大表示聚类效果越好。\n",
    "\n",
    "调整兰德指数（Adjusted Rand Index）：调整兰德指数度量聚类结果与真实类别之间的相似性。它的取值范围在[-1, 1]之间，值越大表示聚类效果越好。\n",
    "\n",
    "均一性、完整性和V-measure：这些指标综合考虑了聚类结果的均一性和完整性。均一性衡量每个聚类是否只包含同一类别的样本，完整性衡量同一类别的样本是否被分配到同一个聚类中。V-measure是均一性和完整性的加权调和平均。\n",
    "\n",
    "Dunn指数：Dunn指数度量聚类结果中簇间距离与簇内距离之间的关系。它的取值范围大于等于0，值越大表示聚类效果越好。\n",
    "\n",
    "DB指数（Davies-Bouldin Index）：DB指数度量聚类结果中簇内的紧密度和簇间的分离度。它的取值范围大于等于0，值越小表示聚类效果越好。\n",
    "\n",
    "这些评估聚类效果的算法和指标可用于对聚类结果进行定量评估，并选择最佳的聚类算法、参数设置或解释聚类结果的合理性。具体选择哪种评估算法取决于数据集的性质、聚类任务的目标以及您的需求和偏好。"
   ]
  },
  {
   "cell_type": "code",
   "execution_count": null,
   "id": "ec962f8a",
   "metadata": {},
   "outputs": [],
   "source": []
  }
 ],
 "metadata": {
  "kernelspec": {
   "display_name": "Python 3 (ipykernel)",
   "language": "python",
   "name": "python3"
  },
  "language_info": {
   "codemirror_mode": {
    "name": "ipython",
    "version": 3
   },
   "file_extension": ".py",
   "mimetype": "text/x-python",
   "name": "python",
   "nbconvert_exporter": "python",
   "pygments_lexer": "ipython3",
   "version": "3.9.13"
  }
 },
 "nbformat": 4,
 "nbformat_minor": 5
}
