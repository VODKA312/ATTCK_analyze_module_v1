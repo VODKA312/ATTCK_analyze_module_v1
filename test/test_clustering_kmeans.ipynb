{
 "cells": [
  {
   "cell_type": "markdown",
   "id": "e4339df1",
   "metadata": {},
   "source": [
    "## K-Means算法进行聚类"
   ]
  },
  {
   "cell_type": "code",
   "execution_count": 7,
   "id": "5bb8751b",
   "metadata": {},
   "outputs": [],
   "source": [
    "from sklearn.cluster import KMeans\n",
    "import pandas as pd"
   ]
  },
  {
   "cell_type": "markdown",
   "id": "b92552e8",
   "metadata": {},
   "source": [
    "### 读取源数据并构建特征矩阵"
   ]
  },
  {
   "cell_type": "code",
   "execution_count": 25,
   "id": "bb308ee9",
   "metadata": {},
   "outputs": [],
   "source": [
    "#读取源数据\n",
    "data = pd.read_excel(\"../DataSource/result.xlsx\")"
   ]
  },
  {
   "cell_type": "code",
   "execution_count": 26,
   "id": "2f01cbd9",
   "metadata": {},
   "outputs": [
    {
     "name": "stdout",
     "output_type": "stream",
     "text": [
      "    source ID  T1548  T1548.002  T1548.004  T1548.001  T1548.003  T1134  \\\n",
      "0       G0099      0          0          0          0          0      0   \n",
      "1       G0006      0          0          0          0          0      0   \n",
      "2       G0005      0          0          0          0          0      0   \n",
      "3       G0023      0          0          0          0          0      0   \n",
      "4       G0025      0          0          0          0          0      0   \n",
      "..        ...    ...        ...        ...        ...        ...    ...   \n",
      "125     G0044      0          0          0          0          0      0   \n",
      "126     G0102      0          0          0          0          0      0   \n",
      "127     G0128      0          0          0          0          0      0   \n",
      "128     G0018      0          0          0          0          0      0   \n",
      "129     G0045      0          0          0          0          0      0   \n",
      "\n",
      "     T1134.002  T1134.003  T1134.004  ...  T1497.002  T1600  T1600.002  \\\n",
      "0            0          0          0  ...          0      0          0   \n",
      "1            0          0          0  ...          0      0          0   \n",
      "2            0          0          0  ...          0      0          0   \n",
      "3            0          0          0  ...          0      0          0   \n",
      "4            0          0          0  ...          0      0          0   \n",
      "..         ...        ...        ...  ...        ...    ...        ...   \n",
      "125          0          0          0  ...          0      0          0   \n",
      "126          0          0          0  ...          0      0          0   \n",
      "127          0          0          0  ...          0      0          0   \n",
      "128          0          0          0  ...          0      0          0   \n",
      "129          0          0          0  ...          0      0          0   \n",
      "\n",
      "     T1600.001  T1102  T1102.002  T1102.001  T1102.003  T1047  T1220  \n",
      "0            0      0          0          0          0      0      0  \n",
      "1            0      0          0          0          0      0      0  \n",
      "2            0      0          1          0          0      0      0  \n",
      "3            0      0          0          0          0      0      0  \n",
      "4            0      0          0          0          0      0      0  \n",
      "..         ...    ...        ...        ...        ...    ...    ...  \n",
      "125          0      0          0          0          0      0      0  \n",
      "126          0      0          0          0          0      1      0  \n",
      "127          0      0          1          0          0      0      0  \n",
      "128          0      0          0          0          0      0      0  \n",
      "129          0      0          0          0          0      1      0  \n",
      "\n",
      "[130 rows x 595 columns]\n"
     ]
    }
   ],
   "source": [
    "print(data)"
   ]
  },
  {
   "cell_type": "code",
   "execution_count": 27,
   "id": "2f1b8c0b",
   "metadata": {},
   "outputs": [],
   "source": [
    "# 提取特征列数据，构建特征矩阵\n",
    "feature_columns = data.columns[1:]  # 选择除了第一列之外的所有列作为特征列\n",
    "X = data[feature_columns].values"
   ]
  },
  {
   "cell_type": "code",
   "execution_count": 28,
   "id": "6685c4e7",
   "metadata": {},
   "outputs": [
    {
     "name": "stdout",
     "output_type": "stream",
     "text": [
      "(130, 594)\n"
     ]
    }
   ],
   "source": [
    "# 输出特征矩阵\n",
    "print(X.shape)"
   ]
  },
  {
   "cell_type": "markdown",
   "id": "1e1f1d33",
   "metadata": {},
   "source": [
    "### 聚类"
   ]
  },
  {
   "cell_type": "code",
   "execution_count": 29,
   "id": "22b15d27",
   "metadata": {},
   "outputs": [
    {
     "name": "stderr",
     "output_type": "stream",
     "text": [
      "D:\\Anaconda3\\lib\\site-packages\\sklearn\\cluster\\_kmeans.py:870: FutureWarning: The default value of `n_init` will change from 10 to 'auto' in 1.4. Set the value of `n_init` explicitly to suppress the warning\n",
      "  warnings.warn(\n",
      "D:\\Anaconda3\\lib\\site-packages\\sklearn\\cluster\\_kmeans.py:1382: UserWarning: KMeans is known to have a memory leak on Windows with MKL, when there are less chunks than available threads. You can avoid it by setting the environment variable OMP_NUM_THREADS=1.\n",
      "  warnings.warn(\n"
     ]
    }
   ],
   "source": [
    "# 指定聚类数目\n",
    "k = 3\n",
    "\n",
    "# 创建K-Means模型并进行训练\n",
    "kmeans = KMeans(n_clusters=k)\n",
    "kmeans.fit(X)\n",
    "\n",
    "# 获取聚类标签\n",
    "labels = kmeans.labels_\n",
    "\n",
    "# 获取聚类中心\n",
    "centers = kmeans.cluster_centers_\n",
    "\n",
    "# 将聚类标签和中心添加到数据集中\n",
    "data['clustering_label'] = labels\n",
    "data['clustering_center'] = [centers[label] for label in labels]"
   ]
  },
  {
   "cell_type": "code",
   "execution_count": 30,
   "id": "4d8acbb9",
   "metadata": {},
   "outputs": [
    {
     "name": "stdout",
     "output_type": "stream",
     "text": [
      "    source ID  T1548  T1548.002  T1548.004  T1548.001  T1548.003  T1134  \\\n",
      "0       G0099      0          0          0          0          0      0   \n",
      "1       G0006      0          0          0          0          0      0   \n",
      "2       G0005      0          0          0          0          0      0   \n",
      "3       G0023      0          0          0          0          0      0   \n",
      "4       G0025      0          0          0          0          0      0   \n",
      "..        ...    ...        ...        ...        ...        ...    ...   \n",
      "125     G0044      0          0          0          0          0      0   \n",
      "126     G0102      0          0          0          0          0      0   \n",
      "127     G0128      0          0          0          0          0      0   \n",
      "128     G0018      0          0          0          0          0      0   \n",
      "129     G0045      0          0          0          0          0      0   \n",
      "\n",
      "     T1134.002  T1134.003  T1134.004  ...  T1600.002  T1600.001  T1102  \\\n",
      "0            0          0          0  ...          0          0      0   \n",
      "1            0          0          0  ...          0          0      0   \n",
      "2            0          0          0  ...          0          0      0   \n",
      "3            0          0          0  ...          0          0      0   \n",
      "4            0          0          0  ...          0          0      0   \n",
      "..         ...        ...        ...  ...        ...        ...    ...   \n",
      "125          0          0          0  ...          0          0      0   \n",
      "126          0          0          0  ...          0          0      0   \n",
      "127          0          0          0  ...          0          0      0   \n",
      "128          0          0          0  ...          0          0      0   \n",
      "129          0          0          0  ...          0          0      0   \n",
      "\n",
      "     T1102.002  T1102.001  T1102.003  T1047  T1220  clustering_label  \\\n",
      "0            0          0          0      0      0                 0   \n",
      "1            0          0          0      0      0                 0   \n",
      "2            1          0          0      0      0                 0   \n",
      "3            0          0          0      0      0                 0   \n",
      "4            0          0          0      0      0                 0   \n",
      "..         ...        ...        ...    ...    ...               ...   \n",
      "125          0          0          0      0      0                 0   \n",
      "126          0          0          0      1      0                 2   \n",
      "127          1          0          0      0      0                 1   \n",
      "128          0          0          0      0      0                 0   \n",
      "129          0          0          0      1      0                 2   \n",
      "\n",
      "                                     clustering_center  \n",
      "0    [0.0, 0.012820512820512775, 0.0, 0.0, 0.0, 0.0...  \n",
      "1    [0.0, 0.012820512820512775, 0.0, 0.0, 0.0, 0.0...  \n",
      "2    [0.0, 0.012820512820512775, 0.0, 0.0, 0.0, 0.0...  \n",
      "3    [0.0, 0.012820512820512775, 0.0, 0.0, 0.0, 0.0...  \n",
      "4    [0.0, 0.012820512820512775, 0.0, 0.0, 0.0, 0.0...  \n",
      "..                                                 ...  \n",
      "125  [0.0, 0.012820512820512775, 0.0, 0.0, 0.0, 0.0...  \n",
      "126  [0.0, 0.14285714285714288, 0.0, 0.0, 0.0, 0.0,...  \n",
      "127  [0.0, 0.16129032258064502, 0.0, 0.0, 0.0, 0.03...  \n",
      "128  [0.0, 0.012820512820512775, 0.0, 0.0, 0.0, 0.0...  \n",
      "129  [0.0, 0.14285714285714288, 0.0, 0.0, 0.0, 0.0,...  \n",
      "\n",
      "[130 rows x 597 columns]\n"
     ]
    }
   ],
   "source": [
    "print(data)"
   ]
  },
  {
   "cell_type": "markdown",
   "id": "89709cca",
   "metadata": {},
   "source": [
    "### 评估"
   ]
  },
  {
   "cell_type": "code",
   "execution_count": null,
   "id": "29517724",
   "metadata": {},
   "outputs": [],
   "source": []
  }
 ],
 "metadata": {
  "kernelspec": {
   "display_name": "Python 3 (ipykernel)",
   "language": "python",
   "name": "python3"
  },
  "language_info": {
   "codemirror_mode": {
    "name": "ipython",
    "version": 3
   },
   "file_extension": ".py",
   "mimetype": "text/x-python",
   "name": "python",
   "nbconvert_exporter": "python",
   "pygments_lexer": "ipython3",
   "version": "3.9.13"
  }
 },
 "nbformat": 4,
 "nbformat_minor": 5
}
