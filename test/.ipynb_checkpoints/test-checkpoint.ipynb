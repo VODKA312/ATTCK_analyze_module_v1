{
 "cells": [
  {
   "cell_type": "markdown",
   "metadata": {},
   "source": [
    "## 第一步：去除多余的信息\n",
    "- 只保留source和target_id\n",
    "## 第二步：reshape，做一个target_id命中表 如果target_id命中 就是1 如果target_id没有命中，就是0\n",
    "- 统计technique表中所有的target_id\n",
    "- 将所有的target_id作为一个新列\n",
    "- 如果已有数据的target_id在新列里，就填充1.如果没有，就填充0"
   ]
  },
  {
   "cell_type": "code",
   "execution_count": null,
   "metadata": {
    "pycharm": {
     "is_executing": true
    }
   },
   "outputs": [],
   "source": [
    "import pandas as pd\n",
    "\n",
    "# 读取Excel表格数据\n",
    "df = pd.read_excel(\"./DataSource/new_attack_relationship.xlsx\")"
   ]
  },
  {
   "cell_type": "code",
   "execution_count": null,
   "metadata": {},
   "outputs": [],
   "source": [
    "# 创建一个空的新列，用于存储结果\n",
    "df['new_column'] = \"\"\n",
    "\n",
    "# 遍历每一行数据\n",
    "for index, row in df.iterrows():\n",
    "    target_id = row['target ID']\n",
    "\n",
    "    # 检查target ID是否存在\n",
    "    if pd.notnull(target_id):\n",
    "        df.at[index, 'new_column'] = 0  # target ID存在，设置为0\n",
    "    else:\n",
    "        df.at[index, 'new_column'] = 1  # target ID不存在，设置为1\n",
    "\n",
    "# 将结果保存到新的Excel文件中\n",
    "df.to_excel(\"result_file.xlsx\", index=False)"
   ]
  }
 ],
 "metadata": {
  "kernelspec": {
   "display_name": "Python 3 (ipykernel)",
   "language": "python",
   "name": "python3"
  },
  "language_info": {
   "codemirror_mode": {
    "name": "ipython",
    "version": 2
   },
   "file_extension": ".py",
   "mimetype": "text/x-python",
   "name": "python",
   "nbconvert_exporter": "python",
   "pygments_lexer": "ipython2",
   "version": "2.7.6"
  }
 },
 "nbformat": 4,
 "nbformat_minor": 1
}
